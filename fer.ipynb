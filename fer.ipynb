{
  "nbformat": 4,
  "nbformat_minor": 0,
  "metadata": {
    "colab": {
      "name": "fer.ipynb",
      "provenance": []
    },
    "kernelspec": {
      "name": "python3",
      "display_name": "Python 3"
    }
  },
  "cells": [
    {
      "cell_type": "markdown",
      "metadata": {
        "id": "QOhpobYtFpZM",
        "colab_type": "text"
      },
      "source": [
        "# **Модель, распознающая эмоции**\n",
        "Здесь описано создание и обучение модели, распознающей эмоции по фотографии.\n",
        "\n",
        "## Эмоции\n",
        "Модель распознает 7 базовых эмоций по Экману:\n",
        "- злость (ANGER)\n",
        "- отвращение (DISGUST)\n",
        "- страх (FEAR)\n",
        "- счастье (HAPPINESS)\n",
        "- грусть (SAD)\n",
        "- удивление (SURPRISE)\n",
        "- нейтральное выражение (NEUTRAL)\n",
        "\n",
        "Инициализируем массив эмоций"
      ]
    },
    {
      "cell_type": "code",
      "metadata": {
        "id": "OuDUTKcqtZdO",
        "colab_type": "code",
        "colab": {}
      },
      "source": [
        "emotions = [(0, \"ANGER\"), (1, \"DISGUST\"), (2, \"FEAR\"), (3, \"HAPPINESS\"), \n",
        "            (4, \"SAD\"), (5, \"SURPRISE\"), (6, \"NEUTRAL\")]"
      ],
      "execution_count": 0,
      "outputs": []
    },
    {
      "cell_type": "markdown",
      "metadata": {
        "id": "UG_i79DtG_a5",
        "colab_type": "text"
      },
      "source": [
        "## Датасет\n",
        "Для обучения, будем использовать датасет fer2013. Найти его можно [здесь](https://www.kaggle.com/c/challenges-in-representation-learning-facial-expression-recognition-challenge/data). Загрузите его и поместите в папку с этим файлом.\n",
        "Или можно примонтировать Google Drive, если используется Google Colab."
      ]
    },
    {
      "cell_type": "code",
      "metadata": {
        "id": "4qZdJ46MOzUF",
        "colab_type": "code",
        "colab": {
          "base_uri": "https://localhost:8080/",
          "height": 125
        },
        "outputId": "db6c9f61-1252-4a8e-ff01-86e9469d3903"
      },
      "source": [
        "# Монтирование Google Drive\n",
        "from google.colab import drive\n",
        "drive.mount('/content/drive')"
      ],
      "execution_count": 7,
      "outputs": [
        {
          "output_type": "stream",
          "text": [
            "Go to this URL in a browser: https://accounts.google.com/o/oauth2/auth?client_id=947318989803-6bn6qk8qdgf4n4g3pfee6491hc0brc4i.apps.googleusercontent.com&redirect_uri=urn%3aietf%3awg%3aoauth%3a2.0%3aoob&response_type=code&scope=email%20https%3a%2f%2fwww.googleapis.com%2fauth%2fdocs.test%20https%3a%2f%2fwww.googleapis.com%2fauth%2fdrive%20https%3a%2f%2fwww.googleapis.com%2fauth%2fdrive.photos.readonly%20https%3a%2f%2fwww.googleapis.com%2fauth%2fpeopleapi.readonly\n",
            "\n",
            "Enter your authorization code:\n",
            "··········\n",
            "Mounted at /content/drive\n"
          ],
          "name": "stdout"
        }
      ]
    },
    {
      "cell_type": "code",
      "metadata": {
        "id": "Y1KRXfLTOCmO",
        "colab_type": "code",
        "colab": {}
      },
      "source": [
        "# Путь до датасета, укажите свой\n",
        "fer_dataset_path = \"/content/drive/My Drive/university/reko/fer2013.csv\""
      ],
      "execution_count": 0,
      "outputs": []
    }
  ]
}