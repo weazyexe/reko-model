{
  "nbformat": 4,
  "nbformat_minor": 0,
  "metadata": {
    "colab": {
      "name": "fer.ipynb",
      "provenance": [],
      "toc_visible": true
    },
    "kernelspec": {
      "name": "python3",
      "display_name": "Python 3"
    },
    "accelerator": "GPU"
  },
  "cells": [
    {
      "cell_type": "markdown",
      "metadata": {
        "id": "QOhpobYtFpZM",
        "colab_type": "text"
      },
      "source": [
        "# **Модель, распознающая эмоции**\n",
        "Здесь описано создание и обучение модели, распознающей эмоции по фотографии.\n",
        "\n",
        "## Эмоции\n",
        "Модель распознает 7 базовых эмоций по Экману:\n",
        "- злость (ANGER)\n",
        "- отвращение (DISGUST)\n",
        "- страх (FEAR)\n",
        "- счастье (HAPPINESS)\n",
        "- грусть (SAD)\n",
        "- удивление (SURPRISE)\n",
        "- нейтральное выражение (NEUTRAL)\n",
        "\n",
        "Инициализируем массив эмоций"
      ]
    },
    {
      "cell_type": "code",
      "metadata": {
        "id": "OuDUTKcqtZdO",
        "colab_type": "code",
        "colab": {}
      },
      "source": [
        "emotions = [(0, \"ANGER\"), (1, \"DISGUST\"), (2, \"FEAR\"), (3, \"HAPPINESS\"), \n",
        "            (4, \"SAD\"), (5, \"SURPRISE\"), (6, \"NEUTRAL\")]"
      ],
      "execution_count": 0,
      "outputs": []
    },
    {
      "cell_type": "markdown",
      "metadata": {
        "id": "UG_i79DtG_a5",
        "colab_type": "text"
      },
      "source": [
        "## Датасет\n",
        "Для обучения, будем использовать датасет fer2013. Найти его можно [здесь](https://www.kaggle.com/c/challenges-in-representation-learning-facial-expression-recognition-challenge/data). Загрузите его и поместите в папку с этим файлом.\n",
        "Или можно примонтировать Google Drive, если используется Google Colab."
      ]
    },
    {
      "cell_type": "code",
      "metadata": {
        "id": "4qZdJ46MOzUF",
        "colab_type": "code",
        "outputId": "52097f7c-51ed-4b6e-900d-8349ced29a57",
        "colab": {
          "base_uri": "https://localhost:8080/",
          "height": 34
        }
      },
      "source": [
        "# Монтирование Google Drive\n",
        "from google.colab import drive\n",
        "drive.mount('/content/drive')"
      ],
      "execution_count": 28,
      "outputs": [
        {
          "output_type": "stream",
          "text": [
            "Drive already mounted at /content/drive; to attempt to forcibly remount, call drive.mount(\"/content/drive\", force_remount=True).\n"
          ],
          "name": "stdout"
        }
      ]
    },
    {
      "cell_type": "code",
      "metadata": {
        "id": "Y1KRXfLTOCmO",
        "colab_type": "code",
        "colab": {}
      },
      "source": [
        "# Путь до датасета, укажите свой\n",
        "fer_dataset_path = \"/content/drive/My Drive/university/reko/fer2013.csv\""
      ],
      "execution_count": 0,
      "outputs": []
    },
    {
      "cell_type": "markdown",
      "metadata": {
        "id": "_f5g4zsBxOAK",
        "colab_type": "text"
      },
      "source": [
        "## Подготовка данных\n",
        "Для обучения подготавливаем данные. Грузим датасет. Изображения в датасете имеют размер 48х48 пикселей"
      ]
    },
    {
      "cell_type": "code",
      "metadata": {
        "id": "qVDVWxJexf3-",
        "colab_type": "code",
        "colab": {}
      },
      "source": [
        "import pandas as pd\n",
        "import numpy as np"
      ],
      "execution_count": 0,
      "outputs": []
    },
    {
      "cell_type": "code",
      "metadata": {
        "id": "azWeWjyGxdcZ",
        "colab_type": "code",
        "colab": {}
      },
      "source": [
        "width, height = 48, 48\n",
        "data = pd.read_csv(fer_dataset_path)"
      ],
      "execution_count": 0,
      "outputs": []
    },
    {
      "cell_type": "markdown",
      "metadata": {
        "id": "UKQiZ-2ux_qU",
        "colab_type": "text"
      },
      "source": [
        "Данные в датасете хранятся в виде векторов целых чисел. В столбце emotion указан идентификатор эмоции (ассоциативный массив определен выше), а pixels - это 2304 (48х48) чисел изображения, пиксели. Пример как это хранится внутри csv файла ниже:"
      ]
    },
    {
      "cell_type": "code",
      "metadata": {
        "id": "McJYcDE_8EjQ",
        "colab_type": "code",
        "outputId": "542cf4e9-d3dd-40b2-9d39-f277ac87019b",
        "colab": {
          "base_uri": "https://localhost:8080/",
          "height": 197
        }
      },
      "source": [
        "data[:5]"
      ],
      "execution_count": 32,
      "outputs": [
        {
          "output_type": "execute_result",
          "data": {
            "text/html": [
              "<div>\n",
              "<style scoped>\n",
              "    .dataframe tbody tr th:only-of-type {\n",
              "        vertical-align: middle;\n",
              "    }\n",
              "\n",
              "    .dataframe tbody tr th {\n",
              "        vertical-align: top;\n",
              "    }\n",
              "\n",
              "    .dataframe thead th {\n",
              "        text-align: right;\n",
              "    }\n",
              "</style>\n",
              "<table border=\"1\" class=\"dataframe\">\n",
              "  <thead>\n",
              "    <tr style=\"text-align: right;\">\n",
              "      <th></th>\n",
              "      <th>emotion</th>\n",
              "      <th>pixels</th>\n",
              "      <th>Usage</th>\n",
              "    </tr>\n",
              "  </thead>\n",
              "  <tbody>\n",
              "    <tr>\n",
              "      <th>0</th>\n",
              "      <td>0</td>\n",
              "      <td>70 80 82 72 58 58 60 63 54 58 60 48 89 115 121...</td>\n",
              "      <td>Training</td>\n",
              "    </tr>\n",
              "    <tr>\n",
              "      <th>1</th>\n",
              "      <td>0</td>\n",
              "      <td>151 150 147 155 148 133 111 140 170 174 182 15...</td>\n",
              "      <td>Training</td>\n",
              "    </tr>\n",
              "    <tr>\n",
              "      <th>2</th>\n",
              "      <td>2</td>\n",
              "      <td>231 212 156 164 174 138 161 173 182 200 106 38...</td>\n",
              "      <td>Training</td>\n",
              "    </tr>\n",
              "    <tr>\n",
              "      <th>3</th>\n",
              "      <td>4</td>\n",
              "      <td>24 32 36 30 32 23 19 20 30 41 21 22 32 34 21 1...</td>\n",
              "      <td>Training</td>\n",
              "    </tr>\n",
              "    <tr>\n",
              "      <th>4</th>\n",
              "      <td>6</td>\n",
              "      <td>4 0 0 0 0 0 0 0 0 0 0 0 3 15 23 28 48 50 58 84...</td>\n",
              "      <td>Training</td>\n",
              "    </tr>\n",
              "  </tbody>\n",
              "</table>\n",
              "</div>"
            ],
            "text/plain": [
              "   emotion                                             pixels     Usage\n",
              "0        0  70 80 82 72 58 58 60 63 54 58 60 48 89 115 121...  Training\n",
              "1        0  151 150 147 155 148 133 111 140 170 174 182 15...  Training\n",
              "2        2  231 212 156 164 174 138 161 173 182 200 106 38...  Training\n",
              "3        4  24 32 36 30 32 23 19 20 30 41 21 22 32 34 21 1...  Training\n",
              "4        6  4 0 0 0 0 0 0 0 0 0 0 0 3 15 23 28 48 50 58 84...  Training"
            ]
          },
          "metadata": {
            "tags": []
          },
          "execution_count": 32
        }
      ]
    },
    {
      "cell_type": "code",
      "metadata": {
        "id": "XGT6v7EYyfoX",
        "colab_type": "code",
        "colab": {}
      },
      "source": [
        "datapoints = data['pixels'].tolist()\n",
        "\n",
        "all_images = []\n",
        "for images in datapoints:\n",
        "  # преобразуем из строки в массив чисел\n",
        "  x = [int(image) for image in images.split(' ')]\n",
        "  # преобразуем одномерный массив в матрицу\n",
        "  x = np.asarray(x).reshape(width, height)\n",
        "  # добавляем изображение в список всех изображений\n",
        "  all_images.append(x.astype('float32'))"
      ],
      "execution_count": 0,
      "outputs": []
    },
    {
      "cell_type": "code",
      "metadata": {
        "id": "4YlXieUK018T",
        "colab_type": "code",
        "colab": {}
      },
      "source": [
        "# преобразование к массиву numpy\n",
        "all_images = np.asarray(all_images)\n",
        "all_images = np.expand_dims(all_images, -1)"
      ],
      "execution_count": 0,
      "outputs": []
    },
    {
      "cell_type": "markdown",
      "metadata": {
        "id": "lubnHi_VKyhz",
        "colab_type": "text"
      },
      "source": [
        "Считываем эмоции:"
      ]
    },
    {
      "cell_type": "code",
      "metadata": {
        "id": "sgaSHs90K1sy",
        "colab_type": "code",
        "outputId": "686be8cb-e544-4262-e2c3-50b3d5310a4f",
        "colab": {
          "base_uri": "https://localhost:8080/",
          "height": 406
        }
      },
      "source": [
        "all_emotions = pd.get_dummies(data['emotion'])\n",
        "all_emotions"
      ],
      "execution_count": 43,
      "outputs": [
        {
          "output_type": "execute_result",
          "data": {
            "text/html": [
              "<div>\n",
              "<style scoped>\n",
              "    .dataframe tbody tr th:only-of-type {\n",
              "        vertical-align: middle;\n",
              "    }\n",
              "\n",
              "    .dataframe tbody tr th {\n",
              "        vertical-align: top;\n",
              "    }\n",
              "\n",
              "    .dataframe thead th {\n",
              "        text-align: right;\n",
              "    }\n",
              "</style>\n",
              "<table border=\"1\" class=\"dataframe\">\n",
              "  <thead>\n",
              "    <tr style=\"text-align: right;\">\n",
              "      <th></th>\n",
              "      <th>0</th>\n",
              "      <th>1</th>\n",
              "      <th>2</th>\n",
              "      <th>3</th>\n",
              "      <th>4</th>\n",
              "      <th>5</th>\n",
              "      <th>6</th>\n",
              "    </tr>\n",
              "  </thead>\n",
              "  <tbody>\n",
              "    <tr>\n",
              "      <th>0</th>\n",
              "      <td>1</td>\n",
              "      <td>0</td>\n",
              "      <td>0</td>\n",
              "      <td>0</td>\n",
              "      <td>0</td>\n",
              "      <td>0</td>\n",
              "      <td>0</td>\n",
              "    </tr>\n",
              "    <tr>\n",
              "      <th>1</th>\n",
              "      <td>1</td>\n",
              "      <td>0</td>\n",
              "      <td>0</td>\n",
              "      <td>0</td>\n",
              "      <td>0</td>\n",
              "      <td>0</td>\n",
              "      <td>0</td>\n",
              "    </tr>\n",
              "    <tr>\n",
              "      <th>2</th>\n",
              "      <td>0</td>\n",
              "      <td>0</td>\n",
              "      <td>1</td>\n",
              "      <td>0</td>\n",
              "      <td>0</td>\n",
              "      <td>0</td>\n",
              "      <td>0</td>\n",
              "    </tr>\n",
              "    <tr>\n",
              "      <th>3</th>\n",
              "      <td>0</td>\n",
              "      <td>0</td>\n",
              "      <td>0</td>\n",
              "      <td>0</td>\n",
              "      <td>1</td>\n",
              "      <td>0</td>\n",
              "      <td>0</td>\n",
              "    </tr>\n",
              "    <tr>\n",
              "      <th>4</th>\n",
              "      <td>0</td>\n",
              "      <td>0</td>\n",
              "      <td>0</td>\n",
              "      <td>0</td>\n",
              "      <td>0</td>\n",
              "      <td>0</td>\n",
              "      <td>1</td>\n",
              "    </tr>\n",
              "    <tr>\n",
              "      <th>...</th>\n",
              "      <td>...</td>\n",
              "      <td>...</td>\n",
              "      <td>...</td>\n",
              "      <td>...</td>\n",
              "      <td>...</td>\n",
              "      <td>...</td>\n",
              "      <td>...</td>\n",
              "    </tr>\n",
              "    <tr>\n",
              "      <th>35882</th>\n",
              "      <td>0</td>\n",
              "      <td>0</td>\n",
              "      <td>0</td>\n",
              "      <td>0</td>\n",
              "      <td>0</td>\n",
              "      <td>0</td>\n",
              "      <td>1</td>\n",
              "    </tr>\n",
              "    <tr>\n",
              "      <th>35883</th>\n",
              "      <td>0</td>\n",
              "      <td>0</td>\n",
              "      <td>0</td>\n",
              "      <td>1</td>\n",
              "      <td>0</td>\n",
              "      <td>0</td>\n",
              "      <td>0</td>\n",
              "    </tr>\n",
              "    <tr>\n",
              "      <th>35884</th>\n",
              "      <td>1</td>\n",
              "      <td>0</td>\n",
              "      <td>0</td>\n",
              "      <td>0</td>\n",
              "      <td>0</td>\n",
              "      <td>0</td>\n",
              "      <td>0</td>\n",
              "    </tr>\n",
              "    <tr>\n",
              "      <th>35885</th>\n",
              "      <td>0</td>\n",
              "      <td>0</td>\n",
              "      <td>0</td>\n",
              "      <td>1</td>\n",
              "      <td>0</td>\n",
              "      <td>0</td>\n",
              "      <td>0</td>\n",
              "    </tr>\n",
              "    <tr>\n",
              "      <th>35886</th>\n",
              "      <td>0</td>\n",
              "      <td>0</td>\n",
              "      <td>1</td>\n",
              "      <td>0</td>\n",
              "      <td>0</td>\n",
              "      <td>0</td>\n",
              "      <td>0</td>\n",
              "    </tr>\n",
              "  </tbody>\n",
              "</table>\n",
              "<p>35887 rows × 7 columns</p>\n",
              "</div>"
            ],
            "text/plain": [
              "       0  1  2  3  4  5  6\n",
              "0      1  0  0  0  0  0  0\n",
              "1      1  0  0  0  0  0  0\n",
              "2      0  0  1  0  0  0  0\n",
              "3      0  0  0  0  1  0  0\n",
              "4      0  0  0  0  0  0  1\n",
              "...   .. .. .. .. .. .. ..\n",
              "35882  0  0  0  0  0  0  1\n",
              "35883  0  0  0  1  0  0  0\n",
              "35884  1  0  0  0  0  0  0\n",
              "35885  0  0  0  1  0  0  0\n",
              "35886  0  0  1  0  0  0  0\n",
              "\n",
              "[35887 rows x 7 columns]"
            ]
          },
          "metadata": {
            "tags": []
          },
          "execution_count": 43
        }
      ]
    },
    {
      "cell_type": "markdown",
      "metadata": {
        "id": "WjtFAINFwV6s",
        "colab_type": "text"
      },
      "source": [
        "## Модель\n",
        "Для распознавания эмоций на изображении лучше всего использовать сверточную нейронную сеть. Для построения модели будем использовать Keras и TensorFlow. Делаем нужные импорты"
      ]
    },
    {
      "cell_type": "code",
      "metadata": {
        "id": "CyA5M9ETwtI7",
        "colab_type": "code",
        "colab": {}
      },
      "source": [
        "import tensorflow as tf\n",
        "\n",
        "from tensorflow.keras.models import Sequential, load_model\n",
        "from tensorflow.keras.layers import Dense, Dropout, Activation, Flatten\n",
        "from tensorflow.keras.layers import Conv2D, MaxPooling2D, BatchNormalization\n",
        "\n",
        "from tensorflow.keras.losses import categorical_crossentropy\n",
        "from tensorflow.keras.optimizers import Adam\n",
        "from tensorflow.keras.regularizers import l2\n",
        "\n",
        "from matplotlib import pyplot as plt\n",
        "import seaborn as sns\n",
        "import cv2\n",
        "import os"
      ],
      "execution_count": 0,
      "outputs": []
    },
    {
      "cell_type": "markdown",
      "metadata": {
        "id": "KriClua_G-2o",
        "colab_type": "text"
      },
      "source": [
        "Так же задаем нужные константы"
      ]
    },
    {
      "cell_type": "code",
      "metadata": {
        "id": "asnV8grGHCdW",
        "colab_type": "code",
        "colab": {}
      },
      "source": [
        "num_features = 64 # количество признаков\n",
        "num_labels = len(emotions) # количество эмоций\n",
        "batch_size = 64 # каким размером партии данных обучать\n",
        "epochs = 100 # количество эпох, сколько раз обучать"
      ],
      "execution_count": 0,
      "outputs": []
    },
    {
      "cell_type": "markdown",
      "metadata": {
        "id": "PqcMyEYCH9kN",
        "colab_type": "text"
      },
      "source": [
        "Разделяем данные для теста и обучения"
      ]
    },
    {
      "cell_type": "code",
      "metadata": {
        "id": "9r1ba_gYIAce",
        "colab_type": "code",
        "outputId": "5f5a41eb-d1bf-4a7c-d615-c36a8abdbfb4",
        "colab": {
          "base_uri": "https://localhost:8080/",
          "height": 52
        }
      },
      "source": [
        "separate_index = int(len(all_images) * 0.9)\n",
        "test_images, train_images = all_images[separate_index:], all_images[:separate_index]\n",
        "test_emotions, train_emotions = all_emotions[separate_index:], all_emotions[:separate_index]\n",
        "\n",
        "print(\"Размер тестовой подборки: {0}\".format(len(test_images)))\n",
        "print(\"Размер обучающей подборки: {0}\".format(len(train_images)))"
      ],
      "execution_count": 46,
      "outputs": [
        {
          "output_type": "stream",
          "text": [
            "Размер тестовой подборки: 3589\n",
            "Размер обучающей подборки: 32298\n"
          ],
          "name": "stdout"
        }
      ]
    },
    {
      "cell_type": "markdown",
      "metadata": {
        "id": "Fw3VwQloJZy8",
        "colab_type": "text"
      },
      "source": [
        "Сама сверточная нейронная сеть построена следующим образом"
      ]
    },
    {
      "cell_type": "code",
      "metadata": {
        "id": "DhMZBluRJg_J",
        "colab_type": "code",
        "outputId": "604149b0-8bdb-4dd9-f2c5-acace6a96ed3",
        "colab": {
          "base_uri": "https://localhost:8080/",
          "height": 1000
        }
      },
      "source": [
        "model = Sequential()\n",
        "\n",
        "model.add(Conv2D(num_features, kernel_size=(3, 3), activation='relu', input_shape=(width, height, 1), data_format='channels_last', kernel_regularizer=l2(0.01)))\n",
        "model.add(Conv2D(num_features, kernel_size=(3, 3), activation='relu', padding='same'))\n",
        "model.add(BatchNormalization())\n",
        "model.add(MaxPooling2D(pool_size=(2, 2), strides=(2, 2)))\n",
        "model.add(Dropout(0.5))\n",
        "\n",
        "model.add(Conv2D(2*num_features, kernel_size=(3, 3), activation='relu', padding='same'))\n",
        "model.add(BatchNormalization())\n",
        "model.add(Conv2D(2*num_features, kernel_size=(3, 3), activation='relu', padding='same'))\n",
        "model.add(BatchNormalization())\n",
        "model.add(MaxPooling2D(pool_size=(2, 2), strides=(2, 2)))\n",
        "model.add(Dropout(0.5))\n",
        "\n",
        "model.add(Conv2D(2*2*num_features, kernel_size=(3, 3), activation='relu', padding='same'))\n",
        "model.add(BatchNormalization())\n",
        "model.add(Conv2D(2*2*num_features, kernel_size=(3, 3), activation='relu', padding='same'))\n",
        "model.add(BatchNormalization())\n",
        "model.add(MaxPooling2D(pool_size=(2, 2), strides=(2, 2)))\n",
        "model.add(Dropout(0.5))\n",
        "\n",
        "model.add(Conv2D(2*2*2*num_features, kernel_size=(3, 3), activation='relu', padding='same'))\n",
        "model.add(BatchNormalization())\n",
        "model.add(Conv2D(2*2*2*num_features, kernel_size=(3, 3), activation='relu', padding='same'))\n",
        "model.add(BatchNormalization())\n",
        "model.add(MaxPooling2D(pool_size=(2, 2), strides=(2, 2)))\n",
        "model.add(Dropout(0.5))\n",
        "\n",
        "model.add(Flatten())\n",
        "\n",
        "model.add(Dense(2*2*2*num_features, activation='relu'))\n",
        "model.add(Dropout(0.4))\n",
        "model.add(Dense(2*2*num_features, activation='relu'))\n",
        "model.add(Dropout(0.4))\n",
        "model.add(Dense(2*num_features, activation='relu'))\n",
        "model.add(Dropout(0.5))\n",
        "\n",
        "model.add(Dense(num_labels, activation='softmax'))\n",
        "\n",
        "model.summary()"
      ],
      "execution_count": 47,
      "outputs": [
        {
          "output_type": "stream",
          "text": [
            "Model: \"sequential_1\"\n",
            "_________________________________________________________________\n",
            "Layer (type)                 Output Shape              Param #   \n",
            "=================================================================\n",
            "conv2d_1 (Conv2D)            (None, 46, 46, 64)        640       \n",
            "_________________________________________________________________\n",
            "conv2d_2 (Conv2D)            (None, 46, 46, 64)        36928     \n",
            "_________________________________________________________________\n",
            "batch_normalization (BatchNo (None, 46, 46, 64)        256       \n",
            "_________________________________________________________________\n",
            "max_pooling2d (MaxPooling2D) (None, 23, 23, 64)        0         \n",
            "_________________________________________________________________\n",
            "dropout (Dropout)            (None, 23, 23, 64)        0         \n",
            "_________________________________________________________________\n",
            "conv2d_3 (Conv2D)            (None, 23, 23, 128)       73856     \n",
            "_________________________________________________________________\n",
            "batch_normalization_1 (Batch (None, 23, 23, 128)       512       \n",
            "_________________________________________________________________\n",
            "conv2d_4 (Conv2D)            (None, 23, 23, 128)       147584    \n",
            "_________________________________________________________________\n",
            "batch_normalization_2 (Batch (None, 23, 23, 128)       512       \n",
            "_________________________________________________________________\n",
            "max_pooling2d_1 (MaxPooling2 (None, 11, 11, 128)       0         \n",
            "_________________________________________________________________\n",
            "dropout_1 (Dropout)          (None, 11, 11, 128)       0         \n",
            "_________________________________________________________________\n",
            "conv2d_5 (Conv2D)            (None, 11, 11, 256)       295168    \n",
            "_________________________________________________________________\n",
            "batch_normalization_3 (Batch (None, 11, 11, 256)       1024      \n",
            "_________________________________________________________________\n",
            "conv2d_6 (Conv2D)            (None, 11, 11, 256)       590080    \n",
            "_________________________________________________________________\n",
            "batch_normalization_4 (Batch (None, 11, 11, 256)       1024      \n",
            "_________________________________________________________________\n",
            "max_pooling2d_2 (MaxPooling2 (None, 5, 5, 256)         0         \n",
            "_________________________________________________________________\n",
            "dropout_2 (Dropout)          (None, 5, 5, 256)         0         \n",
            "_________________________________________________________________\n",
            "conv2d_7 (Conv2D)            (None, 5, 5, 512)         1180160   \n",
            "_________________________________________________________________\n",
            "batch_normalization_5 (Batch (None, 5, 5, 512)         2048      \n",
            "_________________________________________________________________\n",
            "conv2d_8 (Conv2D)            (None, 5, 5, 512)         2359808   \n",
            "_________________________________________________________________\n",
            "batch_normalization_6 (Batch (None, 5, 5, 512)         2048      \n",
            "_________________________________________________________________\n",
            "max_pooling2d_3 (MaxPooling2 (None, 2, 2, 512)         0         \n",
            "_________________________________________________________________\n",
            "dropout_3 (Dropout)          (None, 2, 2, 512)         0         \n",
            "_________________________________________________________________\n",
            "flatten (Flatten)            (None, 2048)              0         \n",
            "_________________________________________________________________\n",
            "dense (Dense)                (None, 512)               1049088   \n",
            "_________________________________________________________________\n",
            "dropout_4 (Dropout)          (None, 512)               0         \n",
            "_________________________________________________________________\n",
            "dense_1 (Dense)              (None, 256)               131328    \n",
            "_________________________________________________________________\n",
            "dropout_5 (Dropout)          (None, 256)               0         \n",
            "_________________________________________________________________\n",
            "dense_2 (Dense)              (None, 128)               32896     \n",
            "_________________________________________________________________\n",
            "dropout_6 (Dropout)          (None, 128)               0         \n",
            "_________________________________________________________________\n",
            "dense_3 (Dense)              (None, 7)                 903       \n",
            "=================================================================\n",
            "Total params: 5,905,863\n",
            "Trainable params: 5,902,151\n",
            "Non-trainable params: 3,712\n",
            "_________________________________________________________________\n"
          ],
          "name": "stdout"
        }
      ]
    },
    {
      "cell_type": "markdown",
      "metadata": {
        "id": "kQ9wWEYmJ8ui",
        "colab_type": "text"
      },
      "source": [
        "Модель создана, теперь следует её скопилировать и обучить."
      ]
    },
    {
      "cell_type": "code",
      "metadata": {
        "id": "vhdjI832J7tS",
        "colab_type": "code",
        "colab": {}
      },
      "source": [
        "model.compile(loss=categorical_crossentropy,\n",
        "              optimizer=Adam(lr=0.001, beta_1=0.9, beta_2=0.999, epsilon=1e-7),\n",
        "              metrics=['accuracy'])"
      ],
      "execution_count": 0,
      "outputs": []
    },
    {
      "cell_type": "code",
      "metadata": {
        "id": "KtJMXYoeLqar",
        "colab_type": "code",
        "outputId": "dfb19f7d-e0ea-48dd-8915-b9d1700c3fe2",
        "colab": {
          "base_uri": "https://localhost:8080/",
          "height": 1000
        }
      },
      "source": [
        "model.fit(train_images, train_emotions,\n",
        "          batch_size=batch_size,\n",
        "          epochs=epochs,\n",
        "          verbose=1,\n",
        "          validation_data=(test_images, test_emotions),\n",
        "          shuffle=True)"
      ],
      "execution_count": 0,
      "outputs": [
        {
          "output_type": "stream",
          "text": [
            "Train on 32298 samples, validate on 3589 samples\n",
            "Epoch 1/100\n",
            "32298/32298 [==============================] - 80s 2ms/step - loss: 2.0393 - accuracy: 0.2144 - val_loss: 1.8380 - val_accuracy: 0.2452\n",
            "Epoch 2/100\n",
            "32298/32298 [==============================] - 78s 2ms/step - loss: 1.8358 - accuracy: 0.2475 - val_loss: 1.8243 - val_accuracy: 0.2449\n",
            "Epoch 3/100\n",
            "32298/32298 [==============================] - 78s 2ms/step - loss: 1.7979 - accuracy: 0.2679 - val_loss: 1.7554 - val_accuracy: 0.2917\n",
            "Epoch 4/100\n",
            "32298/32298 [==============================] - 78s 2ms/step - loss: 1.7117 - accuracy: 0.3074 - val_loss: 2.0654 - val_accuracy: 0.1948\n",
            "Epoch 5/100\n",
            "32298/32298 [==============================] - 78s 2ms/step - loss: 1.5838 - accuracy: 0.3707 - val_loss: 1.5552 - val_accuracy: 0.3918\n",
            "Epoch 6/100\n",
            "32298/32298 [==============================] - 77s 2ms/step - loss: 1.4993 - accuracy: 0.4152 - val_loss: 1.4685 - val_accuracy: 0.4361\n",
            "Epoch 7/100\n",
            "32298/32298 [==============================] - 78s 2ms/step - loss: 1.4410 - accuracy: 0.4453 - val_loss: 1.5077 - val_accuracy: 0.4207\n",
            "Epoch 8/100\n",
            "32298/32298 [==============================] - 78s 2ms/step - loss: 1.3909 - accuracy: 0.4703 - val_loss: 1.2956 - val_accuracy: 0.4898\n",
            "Epoch 9/100\n",
            "32298/32298 [==============================] - 78s 2ms/step - loss: 1.3465 - accuracy: 0.4906 - val_loss: 1.3024 - val_accuracy: 0.5007\n",
            "Epoch 10/100\n",
            "32298/32298 [==============================] - 78s 2ms/step - loss: 1.3038 - accuracy: 0.5071 - val_loss: 1.2205 - val_accuracy: 0.5336\n",
            "Epoch 11/100\n",
            "32298/32298 [==============================] - 78s 2ms/step - loss: 1.2789 - accuracy: 0.5220 - val_loss: 1.2439 - val_accuracy: 0.5266\n",
            "Epoch 12/100\n",
            "32298/32298 [==============================] - 77s 2ms/step - loss: 1.2509 - accuracy: 0.5348 - val_loss: 1.1708 - val_accuracy: 0.5587\n",
            "Epoch 13/100\n",
            "32298/32298 [==============================] - 78s 2ms/step - loss: 1.2269 - accuracy: 0.5449 - val_loss: 1.1994 - val_accuracy: 0.5589\n",
            "Epoch 14/100\n",
            "32298/32298 [==============================] - 77s 2ms/step - loss: 1.1992 - accuracy: 0.5558 - val_loss: 1.1139 - val_accuracy: 0.5823\n",
            "Epoch 15/100\n",
            "32298/32298 [==============================] - 78s 2ms/step - loss: 1.1834 - accuracy: 0.5654 - val_loss: 1.1037 - val_accuracy: 0.5754\n",
            "Epoch 16/100\n",
            "32298/32298 [==============================] - 77s 2ms/step - loss: 1.1503 - accuracy: 0.5784 - val_loss: 1.0851 - val_accuracy: 0.6007\n",
            "Epoch 17/100\n",
            "32298/32298 [==============================] - 77s 2ms/step - loss: 1.1310 - accuracy: 0.5896 - val_loss: 1.1538 - val_accuracy: 0.5651\n",
            "Epoch 18/100\n",
            "32298/32298 [==============================] - 77s 2ms/step - loss: 1.1101 - accuracy: 0.5991 - val_loss: 1.0412 - val_accuracy: 0.6099\n",
            "Epoch 19/100\n",
            "32298/32298 [==============================] - 77s 2ms/step - loss: 1.0822 - accuracy: 0.6105 - val_loss: 1.1067 - val_accuracy: 0.5913\n",
            "Epoch 20/100\n",
            "32298/32298 [==============================] - 78s 2ms/step - loss: 1.0625 - accuracy: 0.6181 - val_loss: 1.0412 - val_accuracy: 0.6108\n",
            "Epoch 21/100\n",
            "32298/32298 [==============================] - 78s 2ms/step - loss: 1.0435 - accuracy: 0.6242 - val_loss: 1.0273 - val_accuracy: 0.6188\n",
            "Epoch 22/100\n",
            "32298/32298 [==============================] - 78s 2ms/step - loss: 1.0204 - accuracy: 0.6323 - val_loss: 1.0585 - val_accuracy: 0.6119\n",
            "Epoch 23/100\n",
            "32298/32298 [==============================] - 78s 2ms/step - loss: 1.0035 - accuracy: 0.6390 - val_loss: 1.0268 - val_accuracy: 0.6152\n",
            "Epoch 24/100\n",
            "32298/32298 [==============================] - 78s 2ms/step - loss: 0.9719 - accuracy: 0.6521 - val_loss: 1.0343 - val_accuracy: 0.6191\n",
            "Epoch 25/100\n",
            "32298/32298 [==============================] - 78s 2ms/step - loss: 0.9591 - accuracy: 0.6535 - val_loss: 1.0810 - val_accuracy: 0.5971\n",
            "Epoch 26/100\n",
            "32298/32298 [==============================] - 78s 2ms/step - loss: 0.9497 - accuracy: 0.6555 - val_loss: 1.0015 - val_accuracy: 0.6269\n",
            "Epoch 27/100\n",
            "32298/32298 [==============================] - 78s 2ms/step - loss: 0.9308 - accuracy: 0.6636 - val_loss: 1.1470 - val_accuracy: 0.5840\n",
            "Epoch 28/100\n",
            "32298/32298 [==============================] - 78s 2ms/step - loss: 0.9089 - accuracy: 0.6764 - val_loss: 1.0211 - val_accuracy: 0.6213\n",
            "Epoch 29/100\n",
            "32298/32298 [==============================] - 78s 2ms/step - loss: 0.8833 - accuracy: 0.6822 - val_loss: 1.0211 - val_accuracy: 0.6336\n",
            "Epoch 30/100\n",
            "32298/32298 [==============================] - 78s 2ms/step - loss: 0.8669 - accuracy: 0.6873 - val_loss: 1.0353 - val_accuracy: 0.6330\n",
            "Epoch 31/100\n",
            "32298/32298 [==============================] - 78s 2ms/step - loss: 0.8550 - accuracy: 0.6960 - val_loss: 0.9995 - val_accuracy: 0.6422\n",
            "Epoch 32/100\n",
            "32298/32298 [==============================] - 77s 2ms/step - loss: 0.8415 - accuracy: 0.6993 - val_loss: 1.0525 - val_accuracy: 0.6269\n",
            "Epoch 33/100\n",
            "32298/32298 [==============================] - 77s 2ms/step - loss: 0.8221 - accuracy: 0.7079 - val_loss: 0.9759 - val_accuracy: 0.6528\n",
            "Epoch 34/100\n",
            "32298/32298 [==============================] - 77s 2ms/step - loss: 0.7983 - accuracy: 0.7159 - val_loss: 0.9996 - val_accuracy: 0.6517\n",
            "Epoch 35/100\n",
            "32298/32298 [==============================] - 77s 2ms/step - loss: 0.7897 - accuracy: 0.7182 - val_loss: 0.9985 - val_accuracy: 0.6470\n",
            "Epoch 36/100\n",
            "32298/32298 [==============================] - 77s 2ms/step - loss: 0.7802 - accuracy: 0.7220 - val_loss: 0.9953 - val_accuracy: 0.6495\n",
            "Epoch 37/100\n",
            "32298/32298 [==============================] - 78s 2ms/step - loss: 0.7679 - accuracy: 0.7275 - val_loss: 0.9901 - val_accuracy: 0.6509\n",
            "Epoch 38/100\n",
            "32298/32298 [==============================] - 78s 2ms/step - loss: 0.7488 - accuracy: 0.7335 - val_loss: 0.9930 - val_accuracy: 0.6498\n",
            "Epoch 39/100\n",
            "32298/32298 [==============================] - 78s 2ms/step - loss: 0.7344 - accuracy: 0.7404 - val_loss: 1.0111 - val_accuracy: 0.6559\n",
            "Epoch 40/100\n",
            "32298/32298 [==============================] - 78s 2ms/step - loss: 0.7140 - accuracy: 0.7458 - val_loss: 1.0290 - val_accuracy: 0.6556\n",
            "Epoch 41/100\n",
            "32298/32298 [==============================] - 77s 2ms/step - loss: 0.7039 - accuracy: 0.7508 - val_loss: 0.9945 - val_accuracy: 0.6604\n",
            "Epoch 42/100\n",
            "32298/32298 [==============================] - 77s 2ms/step - loss: 0.6995 - accuracy: 0.7561 - val_loss: 1.0030 - val_accuracy: 0.6559\n",
            "Epoch 43/100\n",
            "32298/32298 [==============================] - 77s 2ms/step - loss: 0.6791 - accuracy: 0.7617 - val_loss: 1.0001 - val_accuracy: 0.6587\n",
            "Epoch 44/100\n",
            "32298/32298 [==============================] - 77s 2ms/step - loss: 0.6711 - accuracy: 0.7671 - val_loss: 1.0338 - val_accuracy: 0.6397\n",
            "Epoch 45/100\n",
            "32298/32298 [==============================] - 77s 2ms/step - loss: 0.6646 - accuracy: 0.7710 - val_loss: 1.0206 - val_accuracy: 0.6604\n",
            "Epoch 46/100\n",
            "32298/32298 [==============================] - 77s 2ms/step - loss: 0.6496 - accuracy: 0.7736 - val_loss: 1.0115 - val_accuracy: 0.6590\n",
            "Epoch 47/100\n",
            "32298/32298 [==============================] - 77s 2ms/step - loss: 0.6410 - accuracy: 0.7771 - val_loss: 1.0339 - val_accuracy: 0.6684\n",
            "Epoch 48/100\n",
            "32298/32298 [==============================] - 77s 2ms/step - loss: 0.6189 - accuracy: 0.7839 - val_loss: 1.0549 - val_accuracy: 0.6581\n",
            "Epoch 49/100\n",
            "32298/32298 [==============================] - 77s 2ms/step - loss: 0.6142 - accuracy: 0.7892 - val_loss: 1.1068 - val_accuracy: 0.6461\n",
            "Epoch 50/100\n",
            "32298/32298 [==============================] - 77s 2ms/step - loss: 0.5993 - accuracy: 0.7913 - val_loss: 1.0528 - val_accuracy: 0.6659\n",
            "Epoch 51/100\n",
            "32298/32298 [==============================] - 77s 2ms/step - loss: 0.5911 - accuracy: 0.7967 - val_loss: 1.1042 - val_accuracy: 0.6612\n",
            "Epoch 52/100\n",
            "32298/32298 [==============================] - 77s 2ms/step - loss: 0.5693 - accuracy: 0.8034 - val_loss: 1.0330 - val_accuracy: 0.6673\n",
            "Epoch 53/100\n",
            "32298/32298 [==============================] - 77s 2ms/step - loss: 0.5692 - accuracy: 0.8026 - val_loss: 1.1179 - val_accuracy: 0.6606\n",
            "Epoch 54/100\n",
            "32298/32298 [==============================] - 77s 2ms/step - loss: 0.5565 - accuracy: 0.8090 - val_loss: 1.0618 - val_accuracy: 0.6609\n",
            "Epoch 55/100\n",
            "32298/32298 [==============================] - 77s 2ms/step - loss: 0.5499 - accuracy: 0.8102 - val_loss: 1.0748 - val_accuracy: 0.6695\n",
            "Epoch 56/100\n",
            "32298/32298 [==============================] - 77s 2ms/step - loss: 0.5351 - accuracy: 0.8158 - val_loss: 1.1378 - val_accuracy: 0.6556\n",
            "Epoch 57/100\n",
            "32298/32298 [==============================] - 77s 2ms/step - loss: 0.5294 - accuracy: 0.8215 - val_loss: 1.1021 - val_accuracy: 0.6581\n",
            "Epoch 58/100\n",
            "32298/32298 [==============================] - 77s 2ms/step - loss: 0.5218 - accuracy: 0.8199 - val_loss: 1.1472 - val_accuracy: 0.6581\n",
            "Epoch 59/100\n",
            "32298/32298 [==============================] - 77s 2ms/step - loss: 0.5124 - accuracy: 0.8257 - val_loss: 1.1032 - val_accuracy: 0.6648\n",
            "Epoch 60/100\n",
            "32298/32298 [==============================] - 77s 2ms/step - loss: 0.5027 - accuracy: 0.8309 - val_loss: 1.0764 - val_accuracy: 0.6570\n",
            "Epoch 61/100\n",
            "32298/32298 [==============================] - 77s 2ms/step - loss: 0.5007 - accuracy: 0.8313 - val_loss: 1.1663 - val_accuracy: 0.6693\n",
            "Epoch 62/100\n",
            "32298/32298 [==============================] - 77s 2ms/step - loss: 0.5007 - accuracy: 0.8324 - val_loss: 1.1111 - val_accuracy: 0.6629\n",
            "Epoch 63/100\n",
            "32298/32298 [==============================] - 77s 2ms/step - loss: 0.4881 - accuracy: 0.8367 - val_loss: 1.2334 - val_accuracy: 0.6403\n",
            "Epoch 64/100\n",
            "32298/32298 [==============================] - 77s 2ms/step - loss: 0.4750 - accuracy: 0.8390 - val_loss: 1.1428 - val_accuracy: 0.6631\n",
            "Epoch 65/100\n",
            "32298/32298 [==============================] - 77s 2ms/step - loss: 0.4737 - accuracy: 0.8430 - val_loss: 1.1562 - val_accuracy: 0.6581\n",
            "Epoch 66/100\n",
            "32298/32298 [==============================] - 77s 2ms/step - loss: 0.4550 - accuracy: 0.8461 - val_loss: 1.2007 - val_accuracy: 0.6489\n",
            "Epoch 67/100\n",
            "32298/32298 [==============================] - 77s 2ms/step - loss: 0.4561 - accuracy: 0.8468 - val_loss: 1.1994 - val_accuracy: 0.6640\n",
            "Epoch 68/100\n",
            "32298/32298 [==============================] - 77s 2ms/step - loss: 0.4553 - accuracy: 0.8484 - val_loss: 1.1929 - val_accuracy: 0.6578\n",
            "Epoch 69/100\n",
            "32298/32298 [==============================] - 77s 2ms/step - loss: 0.4402 - accuracy: 0.8536 - val_loss: 1.1875 - val_accuracy: 0.6587\n",
            "Epoch 70/100\n",
            "32298/32298 [==============================] - 77s 2ms/step - loss: 0.4478 - accuracy: 0.8502 - val_loss: 1.1296 - val_accuracy: 0.6654\n",
            "Epoch 71/100\n",
            "32298/32298 [==============================] - 77s 2ms/step - loss: 0.4271 - accuracy: 0.8574 - val_loss: 1.1532 - val_accuracy: 0.6637\n",
            "Epoch 72/100\n",
            "32298/32298 [==============================] - 77s 2ms/step - loss: 0.4276 - accuracy: 0.8561 - val_loss: 1.1556 - val_accuracy: 0.6737\n",
            "Epoch 73/100\n",
            "32298/32298 [==============================] - 77s 2ms/step - loss: 0.4193 - accuracy: 0.8606 - val_loss: 1.1774 - val_accuracy: 0.6617\n",
            "Epoch 74/100\n",
            "32298/32298 [==============================] - 77s 2ms/step - loss: 0.4175 - accuracy: 0.8616 - val_loss: 1.2890 - val_accuracy: 0.6656\n",
            "Epoch 75/100\n",
            "32298/32298 [==============================] - 77s 2ms/step - loss: 0.4148 - accuracy: 0.8618 - val_loss: 1.2387 - val_accuracy: 0.6746\n",
            "Epoch 76/100\n",
            "32298/32298 [==============================] - 77s 2ms/step - loss: 0.4021 - accuracy: 0.8690 - val_loss: 1.3332 - val_accuracy: 0.6656\n",
            "Epoch 77/100\n",
            "32298/32298 [==============================] - 77s 2ms/step - loss: 0.4027 - accuracy: 0.8669 - val_loss: 1.2514 - val_accuracy: 0.6659\n",
            "Epoch 78/100\n",
            "32298/32298 [==============================] - 77s 2ms/step - loss: 0.3922 - accuracy: 0.8717 - val_loss: 1.2257 - val_accuracy: 0.6715\n",
            "Epoch 79/100\n",
            "32298/32298 [==============================] - 77s 2ms/step - loss: 0.3868 - accuracy: 0.8704 - val_loss: 1.2304 - val_accuracy: 0.6637\n",
            "Epoch 80/100\n",
            "32298/32298 [==============================] - 77s 2ms/step - loss: 0.3791 - accuracy: 0.8761 - val_loss: 1.3309 - val_accuracy: 0.6551\n",
            "Epoch 81/100\n",
            "32298/32298 [==============================] - 77s 2ms/step - loss: 0.3746 - accuracy: 0.8762 - val_loss: 1.2583 - val_accuracy: 0.6551\n",
            "Epoch 82/100\n",
            "32298/32298 [==============================] - 77s 2ms/step - loss: 0.3677 - accuracy: 0.8795 - val_loss: 1.2769 - val_accuracy: 0.6612\n",
            "Epoch 83/100\n",
            "32298/32298 [==============================] - 77s 2ms/step - loss: 0.3653 - accuracy: 0.8823 - val_loss: 1.2615 - val_accuracy: 0.6690\n",
            "Epoch 84/100\n",
            "32298/32298 [==============================] - 77s 2ms/step - loss: 0.3576 - accuracy: 0.8829 - val_loss: 1.2923 - val_accuracy: 0.6698\n",
            "Epoch 85/100\n",
            "32298/32298 [==============================] - 77s 2ms/step - loss: 0.3609 - accuracy: 0.8832 - val_loss: 1.2727 - val_accuracy: 0.6623\n",
            "Epoch 86/100\n",
            "32298/32298 [==============================] - 77s 2ms/step - loss: 0.3439 - accuracy: 0.8899 - val_loss: 1.3082 - val_accuracy: 0.6506\n",
            "Epoch 87/100\n",
            "32298/32298 [==============================] - 77s 2ms/step - loss: 0.3554 - accuracy: 0.8854 - val_loss: 1.3323 - val_accuracy: 0.6617\n",
            "Epoch 88/100\n",
            "32298/32298 [==============================] - 77s 2ms/step - loss: 0.3446 - accuracy: 0.8881 - val_loss: 1.2704 - val_accuracy: 0.6528\n",
            "Epoch 89/100\n",
            "32298/32298 [==============================] - 77s 2ms/step - loss: 0.3449 - accuracy: 0.8899 - val_loss: 1.2630 - val_accuracy: 0.6665\n",
            "Epoch 90/100\n",
            "32298/32298 [==============================] - 77s 2ms/step - loss: 0.3380 - accuracy: 0.8878 - val_loss: 1.4344 - val_accuracy: 0.6578\n",
            "Epoch 91/100\n",
            "32298/32298 [==============================] - 77s 2ms/step - loss: 0.3340 - accuracy: 0.8936 - val_loss: 1.3466 - val_accuracy: 0.6609\n",
            "Epoch 92/100\n",
            "32298/32298 [==============================] - 77s 2ms/step - loss: 0.3240 - accuracy: 0.8950 - val_loss: 1.4038 - val_accuracy: 0.6656\n",
            "Epoch 93/100\n",
            "32298/32298 [==============================] - 77s 2ms/step - loss: 0.3219 - accuracy: 0.8978 - val_loss: 1.4231 - val_accuracy: 0.6590\n",
            "Epoch 94/100\n",
            "32298/32298 [==============================] - 77s 2ms/step - loss: 0.3238 - accuracy: 0.8970 - val_loss: 1.2860 - val_accuracy: 0.6629\n",
            "Epoch 95/100\n",
            "32298/32298 [==============================] - 77s 2ms/step - loss: 0.3180 - accuracy: 0.8997 - val_loss: 1.4087 - val_accuracy: 0.6637\n",
            "Epoch 96/100\n",
            "32298/32298 [==============================] - 77s 2ms/step - loss: 0.3205 - accuracy: 0.8975 - val_loss: 1.3034 - val_accuracy: 0.6648\n",
            "Epoch 97/100\n",
            "32298/32298 [==============================] - 77s 2ms/step - loss: 0.3227 - accuracy: 0.8962 - val_loss: 1.3458 - val_accuracy: 0.6578\n",
            "Epoch 98/100\n",
            "32298/32298 [==============================] - 77s 2ms/step - loss: 0.3014 - accuracy: 0.9041 - val_loss: 1.4448 - val_accuracy: 0.6662\n",
            "Epoch 99/100\n",
            "32298/32298 [==============================] - 77s 2ms/step - loss: 0.3081 - accuracy: 0.9024 - val_loss: 1.2942 - val_accuracy: 0.6687\n",
            "Epoch 100/100\n",
            "32298/32298 [==============================] - 77s 2ms/step - loss: 0.3004 - accuracy: 0.9054 - val_loss: 1.4006 - val_accuracy: 0.6651\n"
          ],
          "name": "stdout"
        },
        {
          "output_type": "execute_result",
          "data": {
            "text/plain": [
              "<keras.callbacks.callbacks.History at 0x7f707ee6d550>"
            ]
          },
          "metadata": {
            "tags": []
          },
          "execution_count": 32
        }
      ]
    },
    {
      "cell_type": "markdown",
      "metadata": {
        "id": "zz6zvlnKA0dx",
        "colab_type": "text"
      },
      "source": [
        "Сохраняем модель"
      ]
    },
    {
      "cell_type": "code",
      "metadata": {
        "id": "QWxSKK1PTgW8",
        "colab_type": "code",
        "colab": {}
      },
      "source": [
        "model.save(\"fer_model.tf\")"
      ],
      "execution_count": 0,
      "outputs": []
    },
    {
      "cell_type": "markdown",
      "metadata": {
        "id": "5H1yDc9QA2xE",
        "colab_type": "text"
      },
      "source": [
        "## Тестирование\n",
        "Загружаем модель с диска (если она у вас не загружена и вы не обучали модель)"
      ]
    },
    {
      "cell_type": "code",
      "metadata": {
        "id": "hxird3p2vguF",
        "colab_type": "code",
        "colab": {}
      },
      "source": [
        "# Укажите свой путь до обученной модели\n",
        "model_path = \"/content/drive/My Drive/university/reko/fer_model.tf\"\n",
        "model = load_model(model_path)"
      ],
      "execution_count": 0,
      "outputs": []
    },
    {
      "cell_type": "markdown",
      "metadata": {
        "id": "u8-f2m25AxJC",
        "colab_type": "text"
      },
      "source": [
        "Проверяем работоспособность модели"
      ]
    },
    {
      "cell_type": "code",
      "metadata": {
        "id": "4dwNbJw-BCOL",
        "colab_type": "code",
        "colab": {}
      },
      "source": [
        "# Индекс максимального элемента в массиве\n",
        "def get_index_of_max(arr):\n",
        "  return np.where(arr == max(arr))[0][0]\n",
        "\n",
        "# Возвращает нужную эмоцию по айди\n",
        "def get_emotion(index):\n",
        "  for id, emotion in emotions:\n",
        "    if (id == index):\n",
        "      return emotion\n",
        "\n",
        "# Возвращает айди эмоции\n",
        "def get_index_by_emotion(emotion):\n",
        "  for id, e in emotions:\n",
        "    if (emotion == e):\n",
        "      return id\n",
        "\n",
        "# Определяет эмоцию на изображении image\n",
        "def predict(image):\n",
        "  image = np.array([image])\n",
        "  predicted = model.predict(image)[0]\n",
        "  return get_emotion(get_index_of_max(predicted))\n",
        "\n",
        "# Убирает одно измерение в массиве\n",
        "# Т.к. модели необходима форма (n, 48, 48, 1), а с последним измерением неудобно работать\n",
        "# то игнорируем его и преобразуем к форме (n, 48, 48)\n",
        "def collapse_dims(raw_image):\n",
        "  image = []\n",
        "  for column_pixels in raw_image:\n",
        "    temp_column = []\n",
        "    for pixel in column_pixels:\n",
        "      temp_column.append(pixel[0])\n",
        "    image.append(temp_column)\n",
        "  return np.array(image)\n",
        "\n",
        "# Показать изображение \n",
        "def show_image(raw_image):\n",
        "  image = collapse_dims(raw_image).reshape(width, height)\n",
        "\n",
        "  pathname = \"test_image.jpg\"\n",
        "  cv2.imwrite(pathname, image)\n",
        "  image = cv2.imread(pathname)\n",
        "  plt.imshow(image)"
      ],
      "execution_count": 0,
      "outputs": []
    },
    {
      "cell_type": "code",
      "metadata": {
        "id": "QEfg-j0BAwjJ",
        "colab_type": "code",
        "outputId": "c628144a-bb0d-43f4-d75e-1cca4830125e",
        "colab": {
          "base_uri": "https://localhost:8080/",
          "height": 284
        }
      },
      "source": [
        "img = test_images[297]\n",
        "print(predict(img))\n",
        "show_image(img)"
      ],
      "execution_count": 87,
      "outputs": [
        {
          "output_type": "stream",
          "text": [
            "HAPPINESS\n"
          ],
          "name": "stdout"
        },
        {
          "output_type": "display_data",
          "data": {
            "image/png": "[encoded data removed]",
            "text/plain": [
              "<Figure size 432x288 with 1 Axes>"
            ]
          },
          "metadata": {
            "tags": [],
            "needs_background": "light"
          }
        }
      ]
    },
    {
      "cell_type": "markdown",
      "metadata": {
        "id": "bwH72e8eToqx",
        "colab_type": "text"
      },
      "source": [
        "Составляем матрицу ошибок"
      ]
    },
    {
      "cell_type": "code",
      "metadata": {
        "id": "04fGlKV2TrYW",
        "colab_type": "code",
        "colab": {}
      },
      "source": [
        "# Возвращаем список эмоций переданных изображений\n",
        "def make_emotions_list(images):\n",
        "  emotions = []\n",
        "  for image in images:\n",
        "    emotions.append(get_emotion(get_index_of_max(image)))\n",
        "  return emotions\n",
        "\n",
        "# Вычисление матрицы ошибок\n",
        "def confusion_matrix(predicted, test):\n",
        "  result_matrix = []\n",
        "  for key, emotion in emotions:\n",
        "    counts = []\n",
        "\n",
        "    for k, e in emotions:\n",
        "      counts.append(0)\n",
        "\n",
        "    for i in range(0, len(test)):\n",
        "      if (test[i] == emotion and test[i] == predicted[i]):\n",
        "        counts[key] += 1\n",
        "      elif (test[i] == emotion):\n",
        "        counts[get_index_by_emotion(predicted[i])] += 1\n",
        "\n",
        "    result_matrix.append([\"%.3f\" % (count / sum(counts)) for count in counts])\n",
        "  return result_matrix\n",
        "\n",
        "# Вывод матрицы ошибок\n",
        "def show_confusion_matrix(values):\n",
        "  groups = [v for k, v in emotions]\n",
        "  fig, ax = plt.subplots(figsize=(13,10))  \n",
        "  sns.heatmap(values, annot=True, xticklabels=groups, yticklabels=groups, linewidths=2, cmap='Blues')"
      ],
      "execution_count": 0,
      "outputs": []
    },
    {
      "cell_type": "code",
      "metadata": {
        "id": "6CZWg1PlU4l7",
        "colab_type": "code",
        "colab": {
          "base_uri": "https://localhost:8080/",
          "height": 592
        },
        "outputId": "78a1c572-bcb6-41b9-b215-490e83776f62"
      },
      "source": [
        "predicted_images = model.predict(test_images)\n",
        "\n",
        "predicted_emotions = make_emotions_list(predicted_images)\n",
        "test_emotions = [get_emotion(emotion) for emotion in data[\"emotion\"].tolist()[separate_index:]]\n",
        "\n",
        "values = np.array(confusion_matrix(predicted_emotions, test_emotions)).astype(np.float)\n",
        "show_confusion_matrix(values)"
      ],
      "execution_count": 169,
      "outputs": [
        {
          "output_type": "display_data",
          "data": {
            "image/png": "[encoded data removed]",
            "text/plain": [
              "<Figure size 936x720 with 2 Axes>"
            ]
          },
          "metadata": {
            "tags": [],
            "needs_background": "light"
          }
        }
      ]
    },
    {
      "cell_type": "markdown",
      "metadata": {
        "id": "0XpBF7MKS8fe",
        "colab_type": "text"
      },
      "source": [
        "## Конвертация в tflite\n",
        "Так же можно конвертировать Keras модель в tflite."
      ]
    },
    {
      "cell_type": "code",
      "metadata": {
        "id": "zcF4EUTeS2JK",
        "colab_type": "code",
        "outputId": "1ee48fd8-d7c1-4ebb-bc38-439f6ee328c6",
        "colab": {
          "base_uri": "https://localhost:8080/",
          "height": 34
        }
      },
      "source": [
        "converter = tf.lite.TFLiteConverter.from_keras_model(model)\n",
        "tfmodel = converter.convert()\n",
        "open(\"model.tflite\", \"wb\").write(tfmodel)"
      ],
      "execution_count": 23,
      "outputs": [
        {
          "output_type": "execute_result",
          "data": {
            "text/plain": [
              "23617716"
            ]
          },
          "metadata": {
            "tags": []
          },
          "execution_count": 23
        }
      ]
    },
    {
      "cell_type": "markdown",
      "metadata": {
        "id": "L04IKfOFJTNQ",
        "colab_type": "text"
      },
      "source": [
        "Для использования модели tflite следует знать какой формат данных принимает модель.<br/>\n",
        "**Вход**: массив матриц 48х48 пикселей<br/>\n",
        "**Выход**: массив значений типа float, где наибольшее обозначает вероятную эмоцию"
      ]
    },
    {
      "cell_type": "code",
      "metadata": {
        "id": "8dUVjdmPJcJV",
        "colab_type": "code",
        "colab": {
          "base_uri": "https://localhost:8080/",
          "height": 87
        },
        "outputId": "e17e6eb2-8556-4e23-d03c-872feae99a76"
      },
      "source": [
        "interpreter = tf.lite.Interpreter(model_path=\"model.tflite\")\n",
        "interpreter.allocate_tensors()\n",
        "\n",
        "print(\"Формат входных данных: {0}\".format(interpreter.get_input_details()[0]['shape']))\n",
        "print(\"Тип входных данных: {0}\".format(interpreter.get_input_details()[0]['dtype']))\n",
        "\n",
        "print(\"Формат входных данных: {0}\".format(interpreter.get_output_details()[0]['shape']))\n",
        "print(\"Тип входных данных: {0}\".format(interpreter.get_output_details()[0]['dtype']))"
      ],
      "execution_count": 26,
      "outputs": [
        {
          "output_type": "stream",
          "text": [
            "Формат входных данных: [ 1 48 48  1]\n",
            "Тип входных данных: <class 'numpy.float32'>\n",
            "Формат входных данных: [1 7]\n",
            "Тип входных данных: <class 'numpy.float32'>\n"
          ],
          "name": "stdout"
        }
      ]
    }
  ]
}