{
  "nbformat": 4,
  "nbformat_minor": 0,
  "metadata": {
    "colab": {
      "name": "fer.ipynb",
      "provenance": [],
      "toc_visible": true
    },
    "kernelspec": {
      "name": "python3",
      "display_name": "Python 3"
    }
  },
  "cells": [
    {
      "cell_type": "markdown",
      "metadata": {
        "id": "QOhpobYtFpZM",
        "colab_type": "text"
      },
      "source": [
        "# **Модель, распознающая эмоции**\n",
        "Здесь описано создание и обучение модели, распознающей эмоции по фотографии.\n",
        "\n",
        "## Эмоции\n",
        "Модель распознает 7 базовых эмоций по Экману:\n",
        "- злость (ANGER)\n",
        "- отвращение (DISGUST)\n",
        "- страх (FEAR)\n",
        "- счастье (HAPPINESS)\n",
        "- грусть (SAD)\n",
        "- удивление (SURPRISE)\n",
        "- нейтральное выражение (NEUTRAL)\n",
        "\n",
        "Инициализируем массив эмоций"
      ]
    },
    {
      "cell_type": "code",
      "metadata": {
        "id": "OuDUTKcqtZdO",
        "colab_type": "code",
        "colab": {}
      },
      "source": [
        "emotions = [(0, \"ANGER\"), (1, \"DISGUST\"), (2, \"FEAR\"), (3, \"HAPPINESS\"), \n",
        "            (4, \"SAD\"), (5, \"SURPRISE\"), (6, \"NEUTRAL\")]"
      ],
      "execution_count": 0,
      "outputs": []
    },
    {
      "cell_type": "markdown",
      "metadata": {
        "id": "UG_i79DtG_a5",
        "colab_type": "text"
      },
      "source": [
        "## Датасет\n",
        "Для обучения, будем использовать датасет fer2013. Найти его можно [здесь](https://www.kaggle.com/c/challenges-in-representation-learning-facial-expression-recognition-challenge/data). Загрузите его и поместите в папку с этим файлом.\n",
        "Или можно примонтировать Google Drive, если используется Google Colab."
      ]
    },
    {
      "cell_type": "code",
      "metadata": {
        "id": "4qZdJ46MOzUF",
        "colab_type": "code",
        "outputId": "ed3cc46f-898c-4171-ebaa-a3d326618f5a",
        "colab": {
          "base_uri": "https://localhost:8080/",
          "height": 125
        }
      },
      "source": [
        "# Монтирование Google Drive\n",
        "from google.colab import drive\n",
        "drive.mount('/content/drive')"
      ],
      "execution_count": 1,
      "outputs": [
        {
          "output_type": "stream",
          "text": [
            "Go to this URL in a browser: https://accounts.google.com/o/oauth2/auth?client_id=947318989803-6bn6qk8qdgf4n4g3pfee6491hc0brc4i.apps.googleusercontent.com&redirect_uri=urn%3aietf%3awg%3aoauth%3a2.0%3aoob&response_type=code&scope=email%20https%3a%2f%2fwww.googleapis.com%2fauth%2fdocs.test%20https%3a%2f%2fwww.googleapis.com%2fauth%2fdrive%20https%3a%2f%2fwww.googleapis.com%2fauth%2fdrive.photos.readonly%20https%3a%2f%2fwww.googleapis.com%2fauth%2fpeopleapi.readonly\n",
            "\n",
            "Enter your authorization code:\n",
            "··········\n",
            "Mounted at /content/drive\n"
          ],
          "name": "stdout"
        }
      ]
    },
    {
      "cell_type": "code",
      "metadata": {
        "id": "Y1KRXfLTOCmO",
        "colab_type": "code",
        "colab": {}
      },
      "source": [
        "# Путь до датасета, укажите свой\n",
        "fer_dataset_path = \"/content/drive/My Drive/university/reko/fer2013.csv\""
      ],
      "execution_count": 0,
      "outputs": []
    },
    {
      "cell_type": "markdown",
      "metadata": {
        "id": "_f5g4zsBxOAK",
        "colab_type": "text"
      },
      "source": [
        "## Подготовка данных\n",
        "Для обучения подготавливаем данные. Грузим датасет. Изображения в датасете имеют размер 48х48 пикселей"
      ]
    },
    {
      "cell_type": "code",
      "metadata": {
        "id": "qVDVWxJexf3-",
        "colab_type": "code",
        "colab": {}
      },
      "source": [
        "import pandas as pd\n",
        "import numpy as np"
      ],
      "execution_count": 0,
      "outputs": []
    },
    {
      "cell_type": "code",
      "metadata": {
        "id": "azWeWjyGxdcZ",
        "colab_type": "code",
        "colab": {}
      },
      "source": [
        "width, height = 48, 48\n",
        "data = pd.read_csv(fer_dataset_path)"
      ],
      "execution_count": 0,
      "outputs": []
    },
    {
      "cell_type": "markdown",
      "metadata": {
        "id": "UKQiZ-2ux_qU",
        "colab_type": "text"
      },
      "source": [
        "Данные в датасете хранятся в виде векторов целых чисел. В столбце emotion указан идентификатор эмоции (ассоциативный массив определен выше), а pixels - это 2304 (48х48) чисел изображения, пиксели. Пример как это хранится внутри csv файла ниже:"
      ]
    },
    {
      "cell_type": "code",
      "metadata": {
        "id": "McJYcDE_8EjQ",
        "colab_type": "code",
        "colab": {
          "base_uri": "https://localhost:8080/",
          "height": 197
        },
        "outputId": "53750a71-7735-4eca-b26d-0a0149e5a686"
      },
      "source": [
        "data[:5]"
      ],
      "execution_count": 17,
      "outputs": [
        {
          "output_type": "execute_result",
          "data": {
            "text/html": [
              "<div>\n",
              "<style scoped>\n",
              "    .dataframe tbody tr th:only-of-type {\n",
              "        vertical-align: middle;\n",
              "    }\n",
              "\n",
              "    .dataframe tbody tr th {\n",
              "        vertical-align: top;\n",
              "    }\n",
              "\n",
              "    .dataframe thead th {\n",
              "        text-align: right;\n",
              "    }\n",
              "</style>\n",
              "<table border=\"1\" class=\"dataframe\">\n",
              "  <thead>\n",
              "    <tr style=\"text-align: right;\">\n",
              "      <th></th>\n",
              "      <th>emotion</th>\n",
              "      <th>pixels</th>\n",
              "      <th>Usage</th>\n",
              "    </tr>\n",
              "  </thead>\n",
              "  <tbody>\n",
              "    <tr>\n",
              "      <th>0</th>\n",
              "      <td>0</td>\n",
              "      <td>70 80 82 72 58 58 60 63 54 58 60 48 89 115 121...</td>\n",
              "      <td>Training</td>\n",
              "    </tr>\n",
              "    <tr>\n",
              "      <th>1</th>\n",
              "      <td>0</td>\n",
              "      <td>151 150 147 155 148 133 111 140 170 174 182 15...</td>\n",
              "      <td>Training</td>\n",
              "    </tr>\n",
              "    <tr>\n",
              "      <th>2</th>\n",
              "      <td>2</td>\n",
              "      <td>231 212 156 164 174 138 161 173 182 200 106 38...</td>\n",
              "      <td>Training</td>\n",
              "    </tr>\n",
              "    <tr>\n",
              "      <th>3</th>\n",
              "      <td>4</td>\n",
              "      <td>24 32 36 30 32 23 19 20 30 41 21 22 32 34 21 1...</td>\n",
              "      <td>Training</td>\n",
              "    </tr>\n",
              "    <tr>\n",
              "      <th>4</th>\n",
              "      <td>6</td>\n",
              "      <td>4 0 0 0 0 0 0 0 0 0 0 0 3 15 23 28 48 50 58 84...</td>\n",
              "      <td>Training</td>\n",
              "    </tr>\n",
              "  </tbody>\n",
              "</table>\n",
              "</div>"
            ],
            "text/plain": [
              "   emotion                                             pixels     Usage\n",
              "0        0  70 80 82 72 58 58 60 63 54 58 60 48 89 115 121...  Training\n",
              "1        0  151 150 147 155 148 133 111 140 170 174 182 15...  Training\n",
              "2        2  231 212 156 164 174 138 161 173 182 200 106 38...  Training\n",
              "3        4  24 32 36 30 32 23 19 20 30 41 21 22 32 34 21 1...  Training\n",
              "4        6  4 0 0 0 0 0 0 0 0 0 0 0 3 15 23 28 48 50 58 84...  Training"
            ]
          },
          "metadata": {
            "tags": []
          },
          "execution_count": 17
        }
      ]
    },
    {
      "cell_type": "code",
      "metadata": {
        "id": "XGT6v7EYyfoX",
        "colab_type": "code",
        "colab": {}
      },
      "source": [
        "datapoints = data['pixels'].tolist()\n",
        "\n",
        "all_images = []\n",
        "for image_xs in datapoints:\n",
        "  # преобразуем из строки в массив чисел\n",
        "  xx = [int(image_x) for image_x in image_xs.split(' ')]\n",
        "  # преобразуем одномерный массив в матрицу\n",
        "  xx = np.asarray(xx).reshape(width, height)\n",
        "  # добавляем изображение в список всех изображений\n",
        "  all_images.append(xx.astype('float32'))"
      ],
      "execution_count": 0,
      "outputs": []
    },
    {
      "cell_type": "code",
      "metadata": {
        "id": "4YlXieUK018T",
        "colab_type": "code",
        "colab": {}
      },
      "source": [
        "all_images = np.asarray(all_images)\n",
        "all_images = np.expand_dims(all_images, -1)"
      ],
      "execution_count": 0,
      "outputs": []
    },
    {
      "cell_type": "markdown",
      "metadata": {
        "id": "WjtFAINFwV6s",
        "colab_type": "text"
      },
      "source": [
        "## Модель\n",
        "Для распознавания эмоций на изображении лучше всего использовать сверточную нейронную сеть. Для построения модели будем использовать Keras."
      ]
    },
    {
      "cell_type": "code",
      "metadata": {
        "id": "CyA5M9ETwtI7",
        "colab_type": "code",
        "colab": {}
      },
      "source": [
        "from keras.models import Sequential\n",
        "from keras.layers import Dense, Dropout, Activation, Flatten\n",
        "from keras.layers import Conv2D, MaxPooling2D, BatchNormalization"
      ],
      "execution_count": 0,
      "outputs": []
    }
  ]
}