{
  "nbformat": 4,
  "nbformat_minor": 0,
  "metadata": {
    "colab": {
      "name": "fer.ipynb",
      "provenance": [],
      "toc_visible": true
    },
    "kernelspec": {
      "name": "python3",
      "display_name": "Python 3"
    }
  },
  "cells": [
    {
      "cell_type": "markdown",
      "metadata": {
        "id": "QOhpobYtFpZM",
        "colab_type": "text"
      },
      "source": [
        "# **Модель, распознающая эмоции**\n",
        "Здесь описано создание и обучение модели, распознающей эмоции по фотографии.\n",
        "\n",
        "## Эмоции\n",
        "Модель распознает 7 базовых эмоций по Экману:\n",
        "- злость (ANGER)\n",
        "- отвращение (DISGUST)\n",
        "- страх (FEAR)\n",
        "- счастье (HAPPINESS)\n",
        "- грусть (SAD)\n",
        "- удивление (SURPRISE)\n",
        "- нейтральное выражение (NEUTRAL)\n",
        "\n",
        "Инициализируем массив эмоций"
      ]
    },
    {
      "cell_type": "code",
      "metadata": {
        "id": "OuDUTKcqtZdO",
        "colab_type": "code",
        "colab": {}
      },
      "source": [
        "emotions = [(0, \"ANGER\"), (1, \"DISGUST\"), (2, \"FEAR\"), (3, \"HAPPINESS\"), \n",
        "            (4, \"SAD\"), (5, \"SURPRISE\"), (6, \"NEUTRAL\")]"
      ],
      "execution_count": 0,
      "outputs": []
    },
    {
      "cell_type": "markdown",
      "metadata": {
        "id": "UG_i79DtG_a5",
        "colab_type": "text"
      },
      "source": [
        "## Датасет\n",
        "Для обучения, будем использовать датасет fer2013. Найти его можно [здесь](https://www.kaggle.com/c/challenges-in-representation-learning-facial-expression-recognition-challenge/data). Загрузите его и поместите в папку с этим файлом.\n",
        "Или можно примонтировать Google Drive, если используется Google Colab."
      ]
    },
    {
      "cell_type": "code",
      "metadata": {
        "id": "4qZdJ46MOzUF",
        "colab_type": "code",
        "outputId": "ed3cc46f-898c-4171-ebaa-a3d326618f5a",
        "colab": {
          "base_uri": "https://localhost:8080/",
          "height": 125
        }
      },
      "source": [
        "# Монтирование Google Drive\n",
        "from google.colab import drive\n",
        "drive.mount('/content/drive')"
      ],
      "execution_count": 1,
      "outputs": [
        {
          "output_type": "stream",
          "text": [
            "Go to this URL in a browser: https://accounts.google.com/o/oauth2/auth?client_id=947318989803-6bn6qk8qdgf4n4g3pfee6491hc0brc4i.apps.googleusercontent.com&redirect_uri=urn%3aietf%3awg%3aoauth%3a2.0%3aoob&response_type=code&scope=email%20https%3a%2f%2fwww.googleapis.com%2fauth%2fdocs.test%20https%3a%2f%2fwww.googleapis.com%2fauth%2fdrive%20https%3a%2f%2fwww.googleapis.com%2fauth%2fdrive.photos.readonly%20https%3a%2f%2fwww.googleapis.com%2fauth%2fpeopleapi.readonly\n",
            "\n",
            "Enter your authorization code:\n",
            "··········\n",
            "Mounted at /content/drive\n"
          ],
          "name": "stdout"
        }
      ]
    },
    {
      "cell_type": "code",
      "metadata": {
        "id": "Y1KRXfLTOCmO",
        "colab_type": "code",
        "colab": {}
      },
      "source": [
        "# Путь до датасета, укажите свой\n",
        "fer_dataset_path = \"/content/drive/My Drive/university/reko/fer2013.csv\""
      ],
      "execution_count": 0,
      "outputs": []
    },
    {
      "cell_type": "markdown",
      "metadata": {
        "id": "_f5g4zsBxOAK",
        "colab_type": "text"
      },
      "source": [
        "## Подготовка данных\n",
        "Для обучения подготавливаем данные. Грузим датасет. Изображения в датасете имеют размер 48х48 пикселей"
      ]
    },
    {
      "cell_type": "code",
      "metadata": {
        "id": "qVDVWxJexf3-",
        "colab_type": "code",
        "colab": {}
      },
      "source": [
        "import pandas as pd\n",
        "import numpy as np"
      ],
      "execution_count": 0,
      "outputs": []
    },
    {
      "cell_type": "code",
      "metadata": {
        "id": "azWeWjyGxdcZ",
        "colab_type": "code",
        "colab": {}
      },
      "source": [
        "width, height = 48, 48\n",
        "data = pd.read_csv(fer_dataset_path)"
      ],
      "execution_count": 0,
      "outputs": []
    },
    {
      "cell_type": "markdown",
      "metadata": {
        "id": "UKQiZ-2ux_qU",
        "colab_type": "text"
      },
      "source": [
        "Данные в датасете хранятся в виде векторов целых чисел. Первое число обозначает эмоцию (от 0 до 6), а остальные 2304 (48х48) чисел - это само изображение."
      ]
    },
    {
      "cell_type": "code",
      "metadata": {
        "id": "XGT6v7EYyfoX",
        "colab_type": "code",
        "colab": {}
      },
      "source": [
        "datapoints = data['pixels'].tolist()\n",
        "\n",
        "all_images = []\n",
        "for image_xs in datapoints:\n",
        "  # преобразуем из строки в массив чисел\n",
        "  xx = [int(image_x) for image_x in image_xs.split(' ')]\n",
        "  # преобразуем одномерный массив в матрицу\n",
        "  xx = np.asarray(xx).reshape(width, height)\n",
        "  # добавляем изображение в список всех изображений\n",
        "  all_images.append(xx.astype('float32'))"
      ],
      "execution_count": 0,
      "outputs": []
    },
    {
      "cell_type": "code",
      "metadata": {
        "id": "4YlXieUK018T",
        "colab_type": "code",
        "colab": {}
      },
      "source": [
        "all_images = np.asarray(all_images)\n",
        "all_images = np.expand_dims(all_images, -1)"
      ],
      "execution_count": 0,
      "outputs": []
    },
    {
      "cell_type": "markdown",
      "metadata": {
        "id": "WjtFAINFwV6s",
        "colab_type": "text"
      },
      "source": [
        "## Модель\n",
        "Для распознавания эмоций на изображении лучше всего использовать сверточную нейронную сеть. Для построения модели будем использовать Keras."
      ]
    },
    {
      "cell_type": "code",
      "metadata": {
        "id": "CyA5M9ETwtI7",
        "colab_type": "code",
        "colab": {}
      },
      "source": [
        "from keras.models import Sequential\n",
        "from keras.layers import Dense, Dropout, Activation, Flatten\n",
        "from keras.layers import Conv2D, MaxPooling2D, BatchNormalization"
      ],
      "execution_count": 0,
      "outputs": []
    }
  ]
}