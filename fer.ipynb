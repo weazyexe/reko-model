{
  "nbformat": 4,
  "nbformat_minor": 0,
  "metadata": {
    "colab": {
      "name": "fer.ipynb",
      "provenance": []
    },
    "kernelspec": {
      "name": "python3",
      "display_name": "Python 3"
    },
    "accelerator": "GPU"
  },
  "cells": [
    {
      "cell_type": "markdown",
      "metadata": {
        "id": "QOhpobYtFpZM",
        "colab_type": "text"
      },
      "source": [
        "# **Модель, распознающая эмоции**\n",
        "Здесь описано создание и обучение модели, распознающей эмоции по фотографии.\n",
        "\n",
        "## Эмоции\n",
        "Модель распознает 7 базовых эмоций по Экману:\n",
        "- злость (ANGER)\n",
        "- отвращение (DISGUST)\n",
        "- страх (FEAR)\n",
        "- счастье (HAPPINESS)\n",
        "- грусть (SAD)\n",
        "- удивление (SURPRISE)\n",
        "- нейтральное выражение (NEUTRAL)\n",
        "\n",
        "Инициализируем массив эмоций"
      ]
    },
    {
      "cell_type": "code",
      "metadata": {
        "id": "OuDUTKcqtZdO",
        "colab_type": "code",
        "colab": {}
      },
      "source": [
        "emotions = [(0, \"ANGER\"), (1, \"DISGUST\"), (2, \"FEAR\"), (3, \"HAPPINESS\"), \n",
        "            (4, \"SAD\"), (5, \"SURPRISE\"), (6, \"NEUTRAL\")]"
      ],
      "execution_count": 0,
      "outputs": []
    },
    {
      "cell_type": "markdown",
      "metadata": {
        "id": "UG_i79DtG_a5",
        "colab_type": "text"
      },
      "source": [
        "## Датасет\n",
        "Для обучения, будем использовать датасет fer2013. Найти его можно [здесь](https://www.kaggle.com/c/challenges-in-representation-learning-facial-expression-recognition-challenge/data). Загрузите его и поместите в папку с этим файлом.\n",
        "Или можно примонтировать Google Drive, если используется Google Colab."
      ]
    },
    {
      "cell_type": "code",
      "metadata": {
        "id": "4qZdJ46MOzUF",
        "colab_type": "code",
        "outputId": "16676584-c687-4e98-afd7-ac51214852ed",
        "colab": {
          "base_uri": "https://localhost:8080/",
          "height": 34
        }
      },
      "source": [
        "# Монтирование Google Drive\n",
        "from google.colab import drive\n",
        "drive.mount('/content/drive')"
      ],
      "execution_count": 70,
      "outputs": [
        {
          "output_type": "stream",
          "text": [
            "Drive already mounted at /content/drive; to attempt to forcibly remount, call drive.mount(\"/content/drive\", force_remount=True).\n"
          ],
          "name": "stdout"
        }
      ]
    },
    {
      "cell_type": "code",
      "metadata": {
        "id": "Y1KRXfLTOCmO",
        "colab_type": "code",
        "colab": {}
      },
      "source": [
        "# Путь до датасета, укажите свой\n",
        "fer_dataset_path = \"/content/drive/My Drive/university/reko/fer2013.csv\""
      ],
      "execution_count": 0,
      "outputs": []
    },
    {
      "cell_type": "markdown",
      "metadata": {
        "id": "_f5g4zsBxOAK",
        "colab_type": "text"
      },
      "source": [
        "## Подготовка данных\n",
        "Для обучения подготавливаем данные. Грузим датасет. Изображения в датасете имеют размер 48х48 пикселей"
      ]
    },
    {
      "cell_type": "code",
      "metadata": {
        "id": "qVDVWxJexf3-",
        "colab_type": "code",
        "colab": {}
      },
      "source": [
        "import pandas as pd\n",
        "import numpy as np"
      ],
      "execution_count": 0,
      "outputs": []
    },
    {
      "cell_type": "code",
      "metadata": {
        "id": "azWeWjyGxdcZ",
        "colab_type": "code",
        "colab": {}
      },
      "source": [
        "width, height = 48, 48\n",
        "data = pd.read_csv(fer_dataset_path)"
      ],
      "execution_count": 0,
      "outputs": []
    },
    {
      "cell_type": "markdown",
      "metadata": {
        "id": "UKQiZ-2ux_qU",
        "colab_type": "text"
      },
      "source": [
        "Данные в датасете хранятся в виде векторов целых чисел. В столбце emotion указан идентификатор эмоции (ассоциативный массив определен выше), а pixels - это 2304 (48х48) чисел изображения, пиксели. Пример как это хранится внутри csv файла ниже:"
      ]
    },
    {
      "cell_type": "code",
      "metadata": {
        "id": "McJYcDE_8EjQ",
        "colab_type": "code",
        "outputId": "266c4214-5142-4883-88f0-102beb47bca7",
        "colab": {
          "base_uri": "https://localhost:8080/",
          "height": 197
        }
      },
      "source": [
        "data[:5]"
      ],
      "execution_count": 0,
      "outputs": [
        {
          "output_type": "execute_result",
          "data": {
            "text/html": [
              "<div>\n",
              "<style scoped>\n",
              "    .dataframe tbody tr th:only-of-type {\n",
              "        vertical-align: middle;\n",
              "    }\n",
              "\n",
              "    .dataframe tbody tr th {\n",
              "        vertical-align: top;\n",
              "    }\n",
              "\n",
              "    .dataframe thead th {\n",
              "        text-align: right;\n",
              "    }\n",
              "</style>\n",
              "<table border=\"1\" class=\"dataframe\">\n",
              "  <thead>\n",
              "    <tr style=\"text-align: right;\">\n",
              "      <th></th>\n",
              "      <th>emotion</th>\n",
              "      <th>pixels</th>\n",
              "      <th>Usage</th>\n",
              "    </tr>\n",
              "  </thead>\n",
              "  <tbody>\n",
              "    <tr>\n",
              "      <th>0</th>\n",
              "      <td>0</td>\n",
              "      <td>70 80 82 72 58 58 60 63 54 58 60 48 89 115 121...</td>\n",
              "      <td>Training</td>\n",
              "    </tr>\n",
              "    <tr>\n",
              "      <th>1</th>\n",
              "      <td>0</td>\n",
              "      <td>151 150 147 155 148 133 111 140 170 174 182 15...</td>\n",
              "      <td>Training</td>\n",
              "    </tr>\n",
              "    <tr>\n",
              "      <th>2</th>\n",
              "      <td>2</td>\n",
              "      <td>231 212 156 164 174 138 161 173 182 200 106 38...</td>\n",
              "      <td>Training</td>\n",
              "    </tr>\n",
              "    <tr>\n",
              "      <th>3</th>\n",
              "      <td>4</td>\n",
              "      <td>24 32 36 30 32 23 19 20 30 41 21 22 32 34 21 1...</td>\n",
              "      <td>Training</td>\n",
              "    </tr>\n",
              "    <tr>\n",
              "      <th>4</th>\n",
              "      <td>6</td>\n",
              "      <td>4 0 0 0 0 0 0 0 0 0 0 0 3 15 23 28 48 50 58 84...</td>\n",
              "      <td>Training</td>\n",
              "    </tr>\n",
              "  </tbody>\n",
              "</table>\n",
              "</div>"
            ],
            "text/plain": [
              "   emotion                                             pixels     Usage\n",
              "0        0  70 80 82 72 58 58 60 63 54 58 60 48 89 115 121...  Training\n",
              "1        0  151 150 147 155 148 133 111 140 170 174 182 15...  Training\n",
              "2        2  231 212 156 164 174 138 161 173 182 200 106 38...  Training\n",
              "3        4  24 32 36 30 32 23 19 20 30 41 21 22 32 34 21 1...  Training\n",
              "4        6  4 0 0 0 0 0 0 0 0 0 0 0 3 15 23 28 48 50 58 84...  Training"
            ]
          },
          "metadata": {
            "tags": []
          },
          "execution_count": 48
        }
      ]
    },
    {
      "cell_type": "code",
      "metadata": {
        "id": "XGT6v7EYyfoX",
        "colab_type": "code",
        "colab": {}
      },
      "source": [
        "datapoints = data['pixels'].tolist()\n",
        "\n",
        "all_images = []\n",
        "for images in datapoints:\n",
        "  # преобразуем из строки в массив чисел\n",
        "  x = [int(image) for image in images.split(' ')]\n",
        "  # преобразуем одномерный массив в матрицу\n",
        "  x = np.asarray(x).reshape(width, height)\n",
        "  # добавляем изображение в список всех изображений\n",
        "  all_images.append(x.astype('float32'))"
      ],
      "execution_count": 0,
      "outputs": []
    },
    {
      "cell_type": "code",
      "metadata": {
        "id": "4YlXieUK018T",
        "colab_type": "code",
        "colab": {}
      },
      "source": [
        "# преобразование к массиву numpy\n",
        "all_images = np.asarray(all_images)\n",
        "all_images = np.expand_dims(all_images, -1)"
      ],
      "execution_count": 0,
      "outputs": []
    },
    {
      "cell_type": "markdown",
      "metadata": {
        "id": "lubnHi_VKyhz",
        "colab_type": "text"
      },
      "source": [
        "Считываем эмоции:"
      ]
    },
    {
      "cell_type": "code",
      "metadata": {
        "id": "sgaSHs90K1sy",
        "colab_type": "code",
        "outputId": "a0d9e2f1-ad7b-4973-fdb9-c64e28eae998",
        "colab": {
          "base_uri": "https://localhost:8080/",
          "height": 406
        }
      },
      "source": [
        "all_emotions = pd.get_dummies(data['emotion'])\n",
        "all_emotions"
      ],
      "execution_count": 77,
      "outputs": [
        {
          "output_type": "execute_result",
          "data": {
            "text/html": [
              "<div>\n",
              "<style scoped>\n",
              "    .dataframe tbody tr th:only-of-type {\n",
              "        vertical-align: middle;\n",
              "    }\n",
              "\n",
              "    .dataframe tbody tr th {\n",
              "        vertical-align: top;\n",
              "    }\n",
              "\n",
              "    .dataframe thead th {\n",
              "        text-align: right;\n",
              "    }\n",
              "</style>\n",
              "<table border=\"1\" class=\"dataframe\">\n",
              "  <thead>\n",
              "    <tr style=\"text-align: right;\">\n",
              "      <th></th>\n",
              "      <th>0</th>\n",
              "      <th>1</th>\n",
              "      <th>2</th>\n",
              "      <th>3</th>\n",
              "      <th>4</th>\n",
              "      <th>5</th>\n",
              "      <th>6</th>\n",
              "    </tr>\n",
              "  </thead>\n",
              "  <tbody>\n",
              "    <tr>\n",
              "      <th>0</th>\n",
              "      <td>1</td>\n",
              "      <td>0</td>\n",
              "      <td>0</td>\n",
              "      <td>0</td>\n",
              "      <td>0</td>\n",
              "      <td>0</td>\n",
              "      <td>0</td>\n",
              "    </tr>\n",
              "    <tr>\n",
              "      <th>1</th>\n",
              "      <td>1</td>\n",
              "      <td>0</td>\n",
              "      <td>0</td>\n",
              "      <td>0</td>\n",
              "      <td>0</td>\n",
              "      <td>0</td>\n",
              "      <td>0</td>\n",
              "    </tr>\n",
              "    <tr>\n",
              "      <th>2</th>\n",
              "      <td>0</td>\n",
              "      <td>0</td>\n",
              "      <td>1</td>\n",
              "      <td>0</td>\n",
              "      <td>0</td>\n",
              "      <td>0</td>\n",
              "      <td>0</td>\n",
              "    </tr>\n",
              "    <tr>\n",
              "      <th>3</th>\n",
              "      <td>0</td>\n",
              "      <td>0</td>\n",
              "      <td>0</td>\n",
              "      <td>0</td>\n",
              "      <td>1</td>\n",
              "      <td>0</td>\n",
              "      <td>0</td>\n",
              "    </tr>\n",
              "    <tr>\n",
              "      <th>4</th>\n",
              "      <td>0</td>\n",
              "      <td>0</td>\n",
              "      <td>0</td>\n",
              "      <td>0</td>\n",
              "      <td>0</td>\n",
              "      <td>0</td>\n",
              "      <td>1</td>\n",
              "    </tr>\n",
              "    <tr>\n",
              "      <th>...</th>\n",
              "      <td>...</td>\n",
              "      <td>...</td>\n",
              "      <td>...</td>\n",
              "      <td>...</td>\n",
              "      <td>...</td>\n",
              "      <td>...</td>\n",
              "      <td>...</td>\n",
              "    </tr>\n",
              "    <tr>\n",
              "      <th>35882</th>\n",
              "      <td>0</td>\n",
              "      <td>0</td>\n",
              "      <td>0</td>\n",
              "      <td>0</td>\n",
              "      <td>0</td>\n",
              "      <td>0</td>\n",
              "      <td>1</td>\n",
              "    </tr>\n",
              "    <tr>\n",
              "      <th>35883</th>\n",
              "      <td>0</td>\n",
              "      <td>0</td>\n",
              "      <td>0</td>\n",
              "      <td>1</td>\n",
              "      <td>0</td>\n",
              "      <td>0</td>\n",
              "      <td>0</td>\n",
              "    </tr>\n",
              "    <tr>\n",
              "      <th>35884</th>\n",
              "      <td>1</td>\n",
              "      <td>0</td>\n",
              "      <td>0</td>\n",
              "      <td>0</td>\n",
              "      <td>0</td>\n",
              "      <td>0</td>\n",
              "      <td>0</td>\n",
              "    </tr>\n",
              "    <tr>\n",
              "      <th>35885</th>\n",
              "      <td>0</td>\n",
              "      <td>0</td>\n",
              "      <td>0</td>\n",
              "      <td>1</td>\n",
              "      <td>0</td>\n",
              "      <td>0</td>\n",
              "      <td>0</td>\n",
              "    </tr>\n",
              "    <tr>\n",
              "      <th>35886</th>\n",
              "      <td>0</td>\n",
              "      <td>0</td>\n",
              "      <td>1</td>\n",
              "      <td>0</td>\n",
              "      <td>0</td>\n",
              "      <td>0</td>\n",
              "      <td>0</td>\n",
              "    </tr>\n",
              "  </tbody>\n",
              "</table>\n",
              "<p>35887 rows × 7 columns</p>\n",
              "</div>"
            ],
            "text/plain": [
              "       0  1  2  3  4  5  6\n",
              "0      1  0  0  0  0  0  0\n",
              "1      1  0  0  0  0  0  0\n",
              "2      0  0  1  0  0  0  0\n",
              "3      0  0  0  0  1  0  0\n",
              "4      0  0  0  0  0  0  1\n",
              "...   .. .. .. .. .. .. ..\n",
              "35882  0  0  0  0  0  0  1\n",
              "35883  0  0  0  1  0  0  0\n",
              "35884  1  0  0  0  0  0  0\n",
              "35885  0  0  0  1  0  0  0\n",
              "35886  0  0  1  0  0  0  0\n",
              "\n",
              "[35887 rows x 7 columns]"
            ]
          },
          "metadata": {
            "tags": []
          },
          "execution_count": 77
        }
      ]
    },
    {
      "cell_type": "markdown",
      "metadata": {
        "id": "WjtFAINFwV6s",
        "colab_type": "text"
      },
      "source": [
        "## Модель\n",
        "Для распознавания эмоций на изображении лучше всего использовать сверточную нейронную сеть. Для построения модели будем использовать Keras и TensorFlow. Делаем нужные импорты"
      ]
    },
    {
      "cell_type": "code",
      "metadata": {
        "id": "CyA5M9ETwtI7",
        "colab_type": "code",
        "colab": {}
      },
      "source": [
        "import tensorflow as tf\n",
        "\n",
        "from tensorflow.keras.models import Sequential, load_model\n",
        "from tensorflow.keras.layers import Dense, Dropout, Activation, Flatten\n",
        "from tensorflow.keras.layers import Conv2D, MaxPooling2D, BatchNormalization\n",
        "\n",
        "from tensorflow.keras.losses import categorical_crossentropy\n",
        "from tensorflow.keras.optimizers import Adam\n",
        "from tensorflow.keras.regularizers import l2\n",
        "\n",
        "from sklearn.model_selection import train_test_split\n",
        "\n",
        "from matplotlib import pyplot as plt\n",
        "import seaborn as sns\n",
        "import cv2\n",
        "import os"
      ],
      "execution_count": 0,
      "outputs": []
    },
    {
      "cell_type": "markdown",
      "metadata": {
        "id": "KriClua_G-2o",
        "colab_type": "text"
      },
      "source": [
        "Так же задаем нужные константы"
      ]
    },
    {
      "cell_type": "code",
      "metadata": {
        "id": "asnV8grGHCdW",
        "colab_type": "code",
        "colab": {}
      },
      "source": [
        "num_features = 64 # количество признаков\n",
        "num_labels = len(emotions) # количество эмоций\n",
        "batch_size = 64 # каким размером партии данных обучать\n",
        "epochs = 100 # количество эпох, сколько раз обучать"
      ],
      "execution_count": 0,
      "outputs": []
    },
    {
      "cell_type": "markdown",
      "metadata": {
        "id": "PqcMyEYCH9kN",
        "colab_type": "text"
      },
      "source": [
        "Разделяем данные для теста, обучения и валидации"
      ]
    },
    {
      "cell_type": "code",
      "metadata": {
        "id": "9r1ba_gYIAce",
        "colab_type": "code",
        "outputId": "0dcff0df-4056-4790-ec69-9e3619678925",
        "colab": {
          "base_uri": "https://localhost:8080/",
          "height": 70
        }
      },
      "source": [
        "train_images, test_images, train_emotions, test_emotions = train_test_split(all_images, all_emotions, test_size=0.1, random_state=42)\n",
        "train_images, valid_images, train_emotions, valid_emotions = train_test_split(train_images, train_emotions, test_size=0.1, random_state=41)\n",
        "\n",
        "print(\"Размер тестовой подборки: {0}\".format(len(test_images)))\n",
        "print(\"Размер обучающей подборки: {0}\".format(len(train_images)))\n",
        "print(\"Размер валидационной подборки: {0}\".format(len(valid_images)))"
      ],
      "execution_count": 156,
      "outputs": [
        {
          "output_type": "stream",
          "text": [
            "Размер тестовой подборки: 3589\n",
            "Размер обучающей подборки: 29068\n",
            "Размер валидационной подборки: 3230\n"
          ],
          "name": "stdout"
        }
      ]
    },
    {
      "cell_type": "markdown",
      "metadata": {
        "id": "Fw3VwQloJZy8",
        "colab_type": "text"
      },
      "source": [
        "Сама сверточная нейронная сеть построена следующим образом"
      ]
    },
    {
      "cell_type": "code",
      "metadata": {
        "id": "azpiGHVSwFn-",
        "colab_type": "code",
        "colab": {}
      },
      "source": [
        "def create_model():\n",
        "  model = Sequential()\n",
        "\n",
        "  model.add(Conv2D(num_features, kernel_size=(3, 3), activation='relu', input_shape=(width, height, 1), data_format='channels_last', kernel_regularizer=l2(0.01)))\n",
        "  model.add(Conv2D(num_features, kernel_size=(3, 3), activation='relu', padding='same'))\n",
        "  model.add(BatchNormalization())\n",
        "  model.add(MaxPooling2D(pool_size=(2, 2), strides=(2, 2)))\n",
        "  model.add(Dropout(0.5))\n",
        "\n",
        "  model.add(Conv2D(2*num_features, kernel_size=(3, 3), activation='relu', padding='same'))\n",
        "  model.add(BatchNormalization())\n",
        "  model.add(Conv2D(2*num_features, kernel_size=(3, 3), activation='relu', padding='same'))\n",
        "  model.add(BatchNormalization())\n",
        "  model.add(MaxPooling2D(pool_size=(2, 2), strides=(2, 2)))\n",
        "  model.add(Dropout(0.5))\n",
        "\n",
        "  model.add(Conv2D(2*2*num_features, kernel_size=(3, 3), activation='relu', padding='same'))\n",
        "  model.add(BatchNormalization())\n",
        "  model.add(Conv2D(2*2*num_features, kernel_size=(3, 3), activation='relu', padding='same'))\n",
        "  model.add(BatchNormalization())\n",
        "  model.add(MaxPooling2D(pool_size=(2, 2), strides=(2, 2)))\n",
        "  model.add(Dropout(0.5))\n",
        "\n",
        "  model.add(Conv2D(2*2*2*num_features, kernel_size=(3, 3), activation='relu', padding='same'))\n",
        "  model.add(BatchNormalization())\n",
        "  model.add(Conv2D(2*2*2*num_features, kernel_size=(3, 3), activation='relu', padding='same'))\n",
        "  model.add(BatchNormalization())\n",
        "  model.add(MaxPooling2D(pool_size=(2, 2), strides=(2, 2)))\n",
        "  model.add(Dropout(0.5))\n",
        "\n",
        "  model.add(Flatten())\n",
        "\n",
        "  model.add(Dense(2*2*2*num_features, activation='relu'))\n",
        "  model.add(Dropout(0.4))\n",
        "  model.add(Dense(2*2*num_features, activation='relu'))\n",
        "  model.add(Dropout(0.4))\n",
        "  model.add(Dense(2*num_features, activation='relu'))\n",
        "  model.add(Dropout(0.5))\n",
        "\n",
        "  model.add(Dense(num_labels, activation='softmax'))\n",
        "\n",
        "  return model"
      ],
      "execution_count": 0,
      "outputs": []
    },
    {
      "cell_type": "code",
      "metadata": {
        "id": "DhMZBluRJg_J",
        "colab_type": "code",
        "outputId": "7fbe138c-1412-4bb0-e30a-85cfe27dd0c6",
        "colab": {
          "base_uri": "https://localhost:8080/",
          "height": 1000
        }
      },
      "source": [
        "model = create_model()\n",
        "model.summary()"
      ],
      "execution_count": 146,
      "outputs": [
        {
          "output_type": "stream",
          "text": [
            "Model: \"sequential_9\"\n",
            "_________________________________________________________________\n",
            "Layer (type)                 Output Shape              Param #   \n",
            "=================================================================\n",
            "conv2d_72 (Conv2D)           (None, 46, 46, 64)        640       \n",
            "_________________________________________________________________\n",
            "conv2d_73 (Conv2D)           (None, 46, 46, 64)        36928     \n",
            "_________________________________________________________________\n",
            "batch_normalization_63 (Batc (None, 46, 46, 64)        256       \n",
            "_________________________________________________________________\n",
            "max_pooling2d_36 (MaxPooling (None, 23, 23, 64)        0         \n",
            "_________________________________________________________________\n",
            "dropout_63 (Dropout)         (None, 23, 23, 64)        0         \n",
            "_________________________________________________________________\n",
            "conv2d_74 (Conv2D)           (None, 23, 23, 128)       73856     \n",
            "_________________________________________________________________\n",
            "batch_normalization_64 (Batc (None, 23, 23, 128)       512       \n",
            "_________________________________________________________________\n",
            "conv2d_75 (Conv2D)           (None, 23, 23, 128)       147584    \n",
            "_________________________________________________________________\n",
            "batch_normalization_65 (Batc (None, 23, 23, 128)       512       \n",
            "_________________________________________________________________\n",
            "max_pooling2d_37 (MaxPooling (None, 11, 11, 128)       0         \n",
            "_________________________________________________________________\n",
            "dropout_64 (Dropout)         (None, 11, 11, 128)       0         \n",
            "_________________________________________________________________\n",
            "conv2d_76 (Conv2D)           (None, 11, 11, 256)       295168    \n",
            "_________________________________________________________________\n",
            "batch_normalization_66 (Batc (None, 11, 11, 256)       1024      \n",
            "_________________________________________________________________\n",
            "conv2d_77 (Conv2D)           (None, 11, 11, 256)       590080    \n",
            "_________________________________________________________________\n",
            "batch_normalization_67 (Batc (None, 11, 11, 256)       1024      \n",
            "_________________________________________________________________\n",
            "max_pooling2d_38 (MaxPooling (None, 5, 5, 256)         0         \n",
            "_________________________________________________________________\n",
            "dropout_65 (Dropout)         (None, 5, 5, 256)         0         \n",
            "_________________________________________________________________\n",
            "conv2d_78 (Conv2D)           (None, 5, 5, 512)         1180160   \n",
            "_________________________________________________________________\n",
            "batch_normalization_68 (Batc (None, 5, 5, 512)         2048      \n",
            "_________________________________________________________________\n",
            "conv2d_79 (Conv2D)           (None, 5, 5, 512)         2359808   \n",
            "_________________________________________________________________\n",
            "batch_normalization_69 (Batc (None, 5, 5, 512)         2048      \n",
            "_________________________________________________________________\n",
            "max_pooling2d_39 (MaxPooling (None, 2, 2, 512)         0         \n",
            "_________________________________________________________________\n",
            "dropout_66 (Dropout)         (None, 2, 2, 512)         0         \n",
            "_________________________________________________________________\n",
            "flatten_9 (Flatten)          (None, 2048)              0         \n",
            "_________________________________________________________________\n",
            "dense_36 (Dense)             (None, 512)               1049088   \n",
            "_________________________________________________________________\n",
            "dropout_67 (Dropout)         (None, 512)               0         \n",
            "_________________________________________________________________\n",
            "dense_37 (Dense)             (None, 256)               131328    \n",
            "_________________________________________________________________\n",
            "dropout_68 (Dropout)         (None, 256)               0         \n",
            "_________________________________________________________________\n",
            "dense_38 (Dense)             (None, 128)               32896     \n",
            "_________________________________________________________________\n",
            "dropout_69 (Dropout)         (None, 128)               0         \n",
            "_________________________________________________________________\n",
            "dense_39 (Dense)             (None, 7)                 903       \n",
            "=================================================================\n",
            "Total params: 5,905,863\n",
            "Trainable params: 5,902,151\n",
            "Non-trainable params: 3,712\n",
            "_________________________________________________________________\n"
          ],
          "name": "stdout"
        }
      ]
    },
    {
      "cell_type": "markdown",
      "metadata": {
        "id": "kQ9wWEYmJ8ui",
        "colab_type": "text"
      },
      "source": [
        "Модель создана, теперь следует её скопилировать и обучить."
      ]
    },
    {
      "cell_type": "code",
      "metadata": {
        "id": "DXacY-iexmXu",
        "colab_type": "code",
        "colab": {}
      },
      "source": [
        "def train_model(model, x_set, y_set, x_valid, y_valid):\n",
        "  model.compile(loss=categorical_crossentropy,\n",
        "              optimizer=Adam(lr=0.001, beta_1=0.9, beta_2=0.999, epsilon=1e-7),\n",
        "              metrics=['accuracy'])\n",
        "  \n",
        "  model.fit(x_set, y_set,\n",
        "          batch_size=batch_size,\n",
        "          epochs=epochs,\n",
        "          verbose=1,\n",
        "          validation_data=(x_valid, y_valid),\n",
        "          shuffle=True)"
      ],
      "execution_count": 0,
      "outputs": []
    },
    {
      "cell_type": "code",
      "metadata": {
        "id": "KtJMXYoeLqar",
        "colab_type": "code",
        "outputId": "8dd80c08-b789-4807-f110-ad3869657a40",
        "colab": {
          "base_uri": "https://localhost:8080/",
          "height": 1000
        }
      },
      "source": [
        "train_model(model, train_images, train_emotions, valid_images, valid_emotions)"
      ],
      "execution_count": 148,
      "outputs": [
        {
          "output_type": "stream",
          "text": [
            "Epoch 1/100\n",
            "455/455 [==============================] - 12s 27ms/step - loss: 2.0132 - accuracy: 0.2163 - val_loss: 1.8171 - val_accuracy: 0.2594\n",
            "Epoch 2/100\n",
            "455/455 [==============================] - 12s 26ms/step - loss: 1.8340 - accuracy: 0.2529 - val_loss: 1.8202 - val_accuracy: 0.2610\n",
            "Epoch 3/100\n",
            "455/455 [==============================] - 12s 26ms/step - loss: 1.7648 - accuracy: 0.2840 - val_loss: 1.7393 - val_accuracy: 0.2901\n",
            "Epoch 4/100\n",
            "455/455 [==============================] - 12s 26ms/step - loss: 1.6818 - accuracy: 0.3276 - val_loss: 1.5996 - val_accuracy: 0.3712\n",
            "Epoch 5/100\n",
            "455/455 [==============================] - 12s 26ms/step - loss: 1.5814 - accuracy: 0.3791 - val_loss: 1.6325 - val_accuracy: 0.3316\n",
            "Epoch 6/100\n",
            "455/455 [==============================] - 12s 26ms/step - loss: 1.5023 - accuracy: 0.4092 - val_loss: 1.5230 - val_accuracy: 0.4080\n",
            "Epoch 7/100\n",
            "455/455 [==============================] - 12s 26ms/step - loss: 1.4582 - accuracy: 0.4237 - val_loss: 1.3679 - val_accuracy: 0.4551\n",
            "Epoch 8/100\n",
            "455/455 [==============================] - 12s 26ms/step - loss: 1.4105 - accuracy: 0.4466 - val_loss: 1.3239 - val_accuracy: 0.4870\n",
            "Epoch 9/100\n",
            "455/455 [==============================] - 12s 26ms/step - loss: 1.3686 - accuracy: 0.4721 - val_loss: 1.3335 - val_accuracy: 0.4929\n",
            "Epoch 10/100\n",
            "455/455 [==============================] - 12s 26ms/step - loss: 1.3335 - accuracy: 0.4902 - val_loss: 1.2171 - val_accuracy: 0.5396\n",
            "Epoch 11/100\n",
            "455/455 [==============================] - 12s 26ms/step - loss: 1.2988 - accuracy: 0.5096 - val_loss: 1.2106 - val_accuracy: 0.5347\n",
            "Epoch 12/100\n",
            "455/455 [==============================] - 12s 26ms/step - loss: 1.2737 - accuracy: 0.5224 - val_loss: 1.1877 - val_accuracy: 0.5437\n",
            "Epoch 13/100\n",
            "455/455 [==============================] - 12s 26ms/step - loss: 1.2428 - accuracy: 0.5358 - val_loss: 1.1815 - val_accuracy: 0.5505\n",
            "Epoch 14/100\n",
            "455/455 [==============================] - 12s 26ms/step - loss: 1.2226 - accuracy: 0.5471 - val_loss: 1.1499 - val_accuracy: 0.5656\n",
            "Epoch 15/100\n",
            "455/455 [==============================] - 12s 26ms/step - loss: 1.2002 - accuracy: 0.5564 - val_loss: 1.1357 - val_accuracy: 0.5895\n",
            "Epoch 16/100\n",
            "455/455 [==============================] - 12s 26ms/step - loss: 1.1740 - accuracy: 0.5666 - val_loss: 1.1480 - val_accuracy: 0.5721\n",
            "Epoch 17/100\n",
            "455/455 [==============================] - 12s 26ms/step - loss: 1.1537 - accuracy: 0.5766 - val_loss: 1.0936 - val_accuracy: 0.6046\n",
            "Epoch 18/100\n",
            "455/455 [==============================] - 12s 26ms/step - loss: 1.1208 - accuracy: 0.5918 - val_loss: 1.0927 - val_accuracy: 0.6006\n",
            "Epoch 19/100\n",
            "455/455 [==============================] - 12s 27ms/step - loss: 1.0950 - accuracy: 0.5966 - val_loss: 1.0739 - val_accuracy: 0.6090\n",
            "Epoch 20/100\n",
            "455/455 [==============================] - 12s 26ms/step - loss: 1.0820 - accuracy: 0.6063 - val_loss: 1.0898 - val_accuracy: 0.5941\n",
            "Epoch 21/100\n",
            "455/455 [==============================] - 12s 26ms/step - loss: 1.0676 - accuracy: 0.6126 - val_loss: 1.0772 - val_accuracy: 0.6096\n",
            "Epoch 22/100\n",
            "455/455 [==============================] - 12s 26ms/step - loss: 1.0374 - accuracy: 0.6214 - val_loss: 1.0933 - val_accuracy: 0.5879\n",
            "Epoch 23/100\n",
            "455/455 [==============================] - 12s 26ms/step - loss: 1.0125 - accuracy: 0.6317 - val_loss: 1.0821 - val_accuracy: 0.6118\n",
            "Epoch 24/100\n",
            "455/455 [==============================] - 12s 26ms/step - loss: 0.9968 - accuracy: 0.6355 - val_loss: 1.0692 - val_accuracy: 0.6158\n",
            "Epoch 25/100\n",
            "455/455 [==============================] - 12s 26ms/step - loss: 0.9780 - accuracy: 0.6461 - val_loss: 1.0287 - val_accuracy: 0.6229\n",
            "Epoch 26/100\n",
            "455/455 [==============================] - 12s 26ms/step - loss: 0.9582 - accuracy: 0.6556 - val_loss: 1.0249 - val_accuracy: 0.6260\n",
            "Epoch 27/100\n",
            "455/455 [==============================] - 12s 26ms/step - loss: 0.9394 - accuracy: 0.6616 - val_loss: 1.0486 - val_accuracy: 0.6214\n",
            "Epoch 28/100\n",
            "455/455 [==============================] - 12s 26ms/step - loss: 0.9258 - accuracy: 0.6641 - val_loss: 1.0303 - val_accuracy: 0.6372\n",
            "Epoch 29/100\n",
            "455/455 [==============================] - 12s 26ms/step - loss: 0.9089 - accuracy: 0.6704 - val_loss: 1.0094 - val_accuracy: 0.6350\n",
            "Epoch 30/100\n",
            "455/455 [==============================] - 12s 26ms/step - loss: 0.8912 - accuracy: 0.6830 - val_loss: 1.0146 - val_accuracy: 0.6350\n",
            "Epoch 31/100\n",
            "455/455 [==============================] - 12s 26ms/step - loss: 0.8695 - accuracy: 0.6872 - val_loss: 1.0200 - val_accuracy: 0.6325\n",
            "Epoch 32/100\n",
            "455/455 [==============================] - 12s 26ms/step - loss: 0.8554 - accuracy: 0.6903 - val_loss: 1.0082 - val_accuracy: 0.6396\n",
            "Epoch 33/100\n",
            "455/455 [==============================] - 12s 26ms/step - loss: 0.8335 - accuracy: 0.7011 - val_loss: 1.0375 - val_accuracy: 0.6288\n",
            "Epoch 34/100\n",
            "455/455 [==============================] - 12s 26ms/step - loss: 0.8377 - accuracy: 0.7004 - val_loss: 1.0140 - val_accuracy: 0.6467\n",
            "Epoch 35/100\n",
            "455/455 [==============================] - 12s 26ms/step - loss: 0.8065 - accuracy: 0.7103 - val_loss: 0.9962 - val_accuracy: 0.6378\n",
            "Epoch 36/100\n",
            "455/455 [==============================] - 12s 26ms/step - loss: 0.7928 - accuracy: 0.7139 - val_loss: 1.0093 - val_accuracy: 0.6381\n",
            "Epoch 37/100\n",
            "455/455 [==============================] - 12s 26ms/step - loss: 0.7788 - accuracy: 0.7232 - val_loss: 1.0155 - val_accuracy: 0.6452\n",
            "Epoch 38/100\n",
            "455/455 [==============================] - 12s 26ms/step - loss: 0.7679 - accuracy: 0.7265 - val_loss: 1.0238 - val_accuracy: 0.6461\n",
            "Epoch 39/100\n",
            "455/455 [==============================] - 12s 26ms/step - loss: 0.7535 - accuracy: 0.7353 - val_loss: 1.0264 - val_accuracy: 0.6505\n",
            "Epoch 40/100\n",
            "455/455 [==============================] - 12s 26ms/step - loss: 0.7335 - accuracy: 0.7415 - val_loss: 1.0348 - val_accuracy: 0.6430\n",
            "Epoch 41/100\n",
            "455/455 [==============================] - 12s 27ms/step - loss: 0.7291 - accuracy: 0.7442 - val_loss: 1.0128 - val_accuracy: 0.6495\n",
            "Epoch 42/100\n",
            "455/455 [==============================] - 12s 27ms/step - loss: 0.7067 - accuracy: 0.7511 - val_loss: 1.0063 - val_accuracy: 0.6610\n",
            "Epoch 43/100\n",
            "455/455 [==============================] - 12s 26ms/step - loss: 0.7005 - accuracy: 0.7521 - val_loss: 1.0583 - val_accuracy: 0.6446\n",
            "Epoch 44/100\n",
            "455/455 [==============================] - 12s 27ms/step - loss: 0.6911 - accuracy: 0.7565 - val_loss: 1.0449 - val_accuracy: 0.6582\n",
            "Epoch 45/100\n",
            "455/455 [==============================] - 12s 26ms/step - loss: 0.6823 - accuracy: 0.7613 - val_loss: 1.0282 - val_accuracy: 0.6554\n",
            "Epoch 46/100\n",
            "455/455 [==============================] - 12s 26ms/step - loss: 0.6667 - accuracy: 0.7659 - val_loss: 1.0517 - val_accuracy: 0.6409\n",
            "Epoch 47/100\n",
            "455/455 [==============================] - 12s 27ms/step - loss: 0.6538 - accuracy: 0.7712 - val_loss: 1.0451 - val_accuracy: 0.6647\n",
            "Epoch 48/100\n",
            "455/455 [==============================] - 12s 27ms/step - loss: 0.6454 - accuracy: 0.7747 - val_loss: 1.0852 - val_accuracy: 0.6591\n",
            "Epoch 49/100\n",
            "455/455 [==============================] - 12s 27ms/step - loss: 0.6271 - accuracy: 0.7821 - val_loss: 1.0988 - val_accuracy: 0.6505\n",
            "Epoch 50/100\n",
            "455/455 [==============================] - 12s 27ms/step - loss: 0.6272 - accuracy: 0.7833 - val_loss: 1.1046 - val_accuracy: 0.6533\n",
            "Epoch 51/100\n",
            "455/455 [==============================] - 12s 26ms/step - loss: 0.6246 - accuracy: 0.7848 - val_loss: 1.0814 - val_accuracy: 0.6567\n",
            "Epoch 52/100\n",
            "455/455 [==============================] - 12s 26ms/step - loss: 0.6008 - accuracy: 0.7926 - val_loss: 1.0997 - val_accuracy: 0.6703\n",
            "Epoch 53/100\n",
            "455/455 [==============================] - 12s 26ms/step - loss: 0.5825 - accuracy: 0.8000 - val_loss: 1.0764 - val_accuracy: 0.6638\n",
            "Epoch 54/100\n",
            "455/455 [==============================] - 12s 26ms/step - loss: 0.5751 - accuracy: 0.8008 - val_loss: 1.1135 - val_accuracy: 0.6616\n",
            "Epoch 55/100\n",
            "455/455 [==============================] - 12s 27ms/step - loss: 0.5780 - accuracy: 0.8007 - val_loss: 1.1245 - val_accuracy: 0.6489\n",
            "Epoch 56/100\n",
            "455/455 [==============================] - 12s 26ms/step - loss: 0.5713 - accuracy: 0.8042 - val_loss: 1.0742 - val_accuracy: 0.6737\n",
            "Epoch 57/100\n",
            "455/455 [==============================] - 12s 26ms/step - loss: 0.5609 - accuracy: 0.8086 - val_loss: 1.1335 - val_accuracy: 0.6628\n",
            "Epoch 58/100\n",
            "455/455 [==============================] - 12s 27ms/step - loss: 0.5452 - accuracy: 0.8173 - val_loss: 1.1353 - val_accuracy: 0.6579\n",
            "Epoch 59/100\n",
            "455/455 [==============================] - 12s 26ms/step - loss: 0.5270 - accuracy: 0.8198 - val_loss: 1.1373 - val_accuracy: 0.6533\n",
            "Epoch 60/100\n",
            "455/455 [==============================] - 12s 26ms/step - loss: 0.5223 - accuracy: 0.8222 - val_loss: 1.1654 - val_accuracy: 0.6641\n",
            "Epoch 61/100\n",
            "455/455 [==============================] - 12s 26ms/step - loss: 0.5163 - accuracy: 0.8230 - val_loss: 1.1704 - val_accuracy: 0.6604\n",
            "Epoch 62/100\n",
            "455/455 [==============================] - 12s 26ms/step - loss: 0.5053 - accuracy: 0.8287 - val_loss: 1.1788 - val_accuracy: 0.6601\n",
            "Epoch 63/100\n",
            "455/455 [==============================] - 12s 26ms/step - loss: 0.5040 - accuracy: 0.8270 - val_loss: 1.2195 - val_accuracy: 0.6502\n",
            "Epoch 64/100\n",
            "455/455 [==============================] - 12s 26ms/step - loss: 0.5001 - accuracy: 0.8315 - val_loss: 1.1779 - val_accuracy: 0.6560\n",
            "Epoch 65/100\n",
            "455/455 [==============================] - 12s 26ms/step - loss: 0.4991 - accuracy: 0.8310 - val_loss: 1.2148 - val_accuracy: 0.6585\n",
            "Epoch 66/100\n",
            "455/455 [==============================] - 12s 26ms/step - loss: 0.4893 - accuracy: 0.8367 - val_loss: 1.1893 - val_accuracy: 0.6604\n",
            "Epoch 67/100\n",
            "455/455 [==============================] - 12s 26ms/step - loss: 0.4876 - accuracy: 0.8372 - val_loss: 1.2030 - val_accuracy: 0.6697\n",
            "Epoch 68/100\n",
            "455/455 [==============================] - 12s 26ms/step - loss: 0.4811 - accuracy: 0.8369 - val_loss: 1.2102 - val_accuracy: 0.6591\n",
            "Epoch 69/100\n",
            "455/455 [==============================] - 12s 26ms/step - loss: 0.4711 - accuracy: 0.8404 - val_loss: 1.2440 - val_accuracy: 0.6517\n",
            "Epoch 70/100\n",
            "455/455 [==============================] - 12s 27ms/step - loss: 0.4572 - accuracy: 0.8458 - val_loss: 1.1842 - val_accuracy: 0.6641\n",
            "Epoch 71/100\n",
            "455/455 [==============================] - 12s 27ms/step - loss: 0.4488 - accuracy: 0.8506 - val_loss: 1.2206 - val_accuracy: 0.6681\n",
            "Epoch 72/100\n",
            "455/455 [==============================] - 12s 26ms/step - loss: 0.4472 - accuracy: 0.8484 - val_loss: 1.1688 - val_accuracy: 0.6672\n",
            "Epoch 73/100\n",
            "455/455 [==============================] - 12s 26ms/step - loss: 0.4422 - accuracy: 0.8512 - val_loss: 1.1990 - val_accuracy: 0.6409\n",
            "Epoch 74/100\n",
            "455/455 [==============================] - 12s 26ms/step - loss: 0.4382 - accuracy: 0.8562 - val_loss: 1.2608 - val_accuracy: 0.6610\n",
            "Epoch 75/100\n",
            "455/455 [==============================] - 12s 26ms/step - loss: 0.4238 - accuracy: 0.8608 - val_loss: 1.3588 - val_accuracy: 0.6632\n",
            "Epoch 76/100\n",
            "455/455 [==============================] - 12s 26ms/step - loss: 0.4328 - accuracy: 0.8591 - val_loss: 1.2369 - val_accuracy: 0.6579\n",
            "Epoch 77/100\n",
            "455/455 [==============================] - 12s 26ms/step - loss: 0.4228 - accuracy: 0.8625 - val_loss: 1.2608 - val_accuracy: 0.6563\n",
            "Epoch 78/100\n",
            "455/455 [==============================] - 12s 26ms/step - loss: 0.4136 - accuracy: 0.8649 - val_loss: 1.2801 - val_accuracy: 0.6690\n",
            "Epoch 79/100\n",
            "455/455 [==============================] - 12s 26ms/step - loss: 0.4058 - accuracy: 0.8651 - val_loss: 1.2916 - val_accuracy: 0.6635\n",
            "Epoch 80/100\n",
            "455/455 [==============================] - 12s 26ms/step - loss: 0.4021 - accuracy: 0.8665 - val_loss: 1.2860 - val_accuracy: 0.6495\n",
            "Epoch 81/100\n",
            "455/455 [==============================] - 12s 26ms/step - loss: 0.4042 - accuracy: 0.8687 - val_loss: 1.3446 - val_accuracy: 0.6641\n",
            "Epoch 82/100\n",
            "455/455 [==============================] - 12s 26ms/step - loss: 0.3940 - accuracy: 0.8721 - val_loss: 1.3524 - val_accuracy: 0.6526\n",
            "Epoch 83/100\n",
            "455/455 [==============================] - 12s 26ms/step - loss: 0.3837 - accuracy: 0.8744 - val_loss: 1.3386 - val_accuracy: 0.6604\n",
            "Epoch 84/100\n",
            "455/455 [==============================] - 12s 26ms/step - loss: 0.3794 - accuracy: 0.8763 - val_loss: 1.3382 - val_accuracy: 0.6613\n",
            "Epoch 85/100\n",
            "455/455 [==============================] - 12s 26ms/step - loss: 0.3848 - accuracy: 0.8752 - val_loss: 1.2561 - val_accuracy: 0.6644\n",
            "Epoch 86/100\n",
            "455/455 [==============================] - 12s 26ms/step - loss: 0.3740 - accuracy: 0.8762 - val_loss: 1.2830 - val_accuracy: 0.6573\n",
            "Epoch 87/100\n",
            "455/455 [==============================] - 12s 26ms/step - loss: 0.3685 - accuracy: 0.8808 - val_loss: 1.2400 - val_accuracy: 0.6582\n",
            "Epoch 88/100\n",
            "455/455 [==============================] - 12s 26ms/step - loss: 0.3558 - accuracy: 0.8837 - val_loss: 1.3901 - val_accuracy: 0.6678\n",
            "Epoch 89/100\n",
            "455/455 [==============================] - 12s 26ms/step - loss: 0.3666 - accuracy: 0.8823 - val_loss: 1.3587 - val_accuracy: 0.6554\n",
            "Epoch 90/100\n",
            "455/455 [==============================] - 12s 26ms/step - loss: 0.3483 - accuracy: 0.8877 - val_loss: 1.2981 - val_accuracy: 0.6573\n",
            "Epoch 91/100\n",
            "455/455 [==============================] - 12s 26ms/step - loss: 0.3448 - accuracy: 0.8897 - val_loss: 1.3393 - val_accuracy: 0.6594\n",
            "Epoch 92/100\n",
            "455/455 [==============================] - 12s 26ms/step - loss: 0.3483 - accuracy: 0.8870 - val_loss: 1.3755 - val_accuracy: 0.6644\n",
            "Epoch 93/100\n",
            "455/455 [==============================] - 12s 26ms/step - loss: 0.3572 - accuracy: 0.8873 - val_loss: 1.3116 - val_accuracy: 0.6570\n",
            "Epoch 94/100\n",
            "455/455 [==============================] - 12s 26ms/step - loss: 0.3321 - accuracy: 0.8935 - val_loss: 1.3972 - val_accuracy: 0.6585\n",
            "Epoch 95/100\n",
            "455/455 [==============================] - 12s 26ms/step - loss: 0.3299 - accuracy: 0.8940 - val_loss: 1.4129 - val_accuracy: 0.6582\n",
            "Epoch 96/100\n",
            "455/455 [==============================] - 12s 26ms/step - loss: 0.3308 - accuracy: 0.8952 - val_loss: 1.4290 - val_accuracy: 0.6635\n",
            "Epoch 97/100\n",
            "455/455 [==============================] - 12s 26ms/step - loss: 0.3317 - accuracy: 0.8935 - val_loss: 1.4626 - val_accuracy: 0.6585\n",
            "Epoch 98/100\n",
            "455/455 [==============================] - 12s 26ms/step - loss: 0.3240 - accuracy: 0.8951 - val_loss: 1.3953 - val_accuracy: 0.6585\n",
            "Epoch 99/100\n",
            "455/455 [==============================] - 12s 26ms/step - loss: 0.3222 - accuracy: 0.8969 - val_loss: 1.3847 - val_accuracy: 0.6625\n",
            "Epoch 100/100\n",
            "455/455 [==============================] - 12s 26ms/step - loss: 0.3188 - accuracy: 0.8991 - val_loss: 1.3775 - val_accuracy: 0.6560\n"
          ],
          "name": "stdout"
        },
        {
          "output_type": "execute_result",
          "data": {
            "text/plain": [
              "<tensorflow.python.keras.callbacks.History at 0x7fad92bf7278>"
            ]
          },
          "metadata": {
            "tags": []
          },
          "execution_count": 148
        }
      ]
    },
    {
      "cell_type": "markdown",
      "metadata": {
        "id": "zz6zvlnKA0dx",
        "colab_type": "text"
      },
      "source": [
        "Сохраняем модель"
      ]
    },
    {
      "cell_type": "code",
      "metadata": {
        "id": "QWxSKK1PTgW8",
        "colab_type": "code",
        "outputId": "56b382fe-c54f-4673-9a38-4ff7fd4fb3a7",
        "colab": {
          "base_uri": "https://localhost:8080/",
          "height": 34
        }
      },
      "source": [
        "model.save(\"fer_model.tf\")"
      ],
      "execution_count": 161,
      "outputs": [
        {
          "output_type": "stream",
          "text": [
            "INFO:tensorflow:Assets written to: fer_model.tf/assets\n"
          ],
          "name": "stdout"
        }
      ]
    },
    {
      "cell_type": "markdown",
      "metadata": {
        "id": "5H1yDc9QA2xE",
        "colab_type": "text"
      },
      "source": [
        "## Тестирование\n",
        "Загружаем модель с диска (если она у вас не загружена и вы не обучали модель)"
      ]
    },
    {
      "cell_type": "code",
      "metadata": {
        "id": "hxird3p2vguF",
        "colab_type": "code",
        "colab": {}
      },
      "source": [
        "# Укажите свой путь до обученной модели\n",
        "model_path = \"/content/drive/My Drive/university/reko/fer_model.tf\"\n",
        "model = load_model(model_path)"
      ],
      "execution_count": 0,
      "outputs": []
    },
    {
      "cell_type": "markdown",
      "metadata": {
        "id": "u8-f2m25AxJC",
        "colab_type": "text"
      },
      "source": [
        "Проверяем работоспособность модели"
      ]
    },
    {
      "cell_type": "code",
      "metadata": {
        "id": "4dwNbJw-BCOL",
        "colab_type": "code",
        "colab": {}
      },
      "source": [
        "# Индекс максимального элемента в массиве\n",
        "def get_index_of_max(arr):\n",
        "  return np.where(arr == max(arr))[0][0]\n",
        "\n",
        "# Возвращает нужную эмоцию по айди\n",
        "def get_emotion(index):\n",
        "  for id, emotion in emotions:\n",
        "    if (id == index):\n",
        "      return emotion\n",
        "\n",
        "# Возвращает айди эмоции\n",
        "def get_index_by_emotion(emotion):\n",
        "  for id, e in emotions:\n",
        "    if (emotion == e):\n",
        "      return id\n",
        "\n",
        "# Определяет эмоцию на изображении image\n",
        "def predict(image):\n",
        "  image = np.array([image])\n",
        "  predicted = model.predict(image)[0]\n",
        "  return get_emotion(get_index_of_max(predicted))\n",
        "\n",
        "# Убирает одно измерение в массиве\n",
        "# Т.к. модели необходима форма (n, 48, 48, 1), а с последним измерением неудобно работать\n",
        "# то игнорируем его и преобразуем к форме (n, 48, 48)\n",
        "def collapse_dims(raw_image):\n",
        "  image = []\n",
        "  for column_pixels in raw_image:\n",
        "    temp_column = []\n",
        "    for pixel in column_pixels:\n",
        "      temp_column.append(pixel[0])\n",
        "    image.append(temp_column)\n",
        "  return np.array(image)\n",
        "\n",
        "# Показать изображение \n",
        "def show_image(raw_image):\n",
        "  image = collapse_dims(raw_image).reshape(width, height)\n",
        "\n",
        "  pathname = \"test_image.jpg\"\n",
        "  cv2.imwrite(pathname, image)\n",
        "  image = cv2.imread(pathname)\n",
        "  plt.imshow(image)"
      ],
      "execution_count": 0,
      "outputs": []
    },
    {
      "cell_type": "code",
      "metadata": {
        "id": "QEfg-j0BAwjJ",
        "colab_type": "code",
        "outputId": "4409d9a3-7cc5-437e-c874-51c2d6fa84b7",
        "colab": {
          "base_uri": "https://localhost:8080/",
          "height": 284
        }
      },
      "source": [
        "img = test_images[297]\n",
        "print(predict(img))\n",
        "show_image(img)"
      ],
      "execution_count": 151,
      "outputs": [
        {
          "output_type": "stream",
          "text": [
            "SURPRISE\n"
          ],
          "name": "stdout"
        },
        {
          "output_type": "display_data",
          "data": {
            "image/png": "[encoded data removed]",
            "text/plain": [
              "<Figure size 432x288 with 1 Axes>"
            ]
          },
          "metadata": {
            "tags": [],
            "needs_background": "light"
          }
        }
      ]
    },
    {
      "cell_type": "markdown",
      "metadata": {
        "id": "bwH72e8eToqx",
        "colab_type": "text"
      },
      "source": [
        "Составляем матрицу ошибок и высчитываем точность"
      ]
    },
    {
      "cell_type": "code",
      "metadata": {
        "id": "04fGlKV2TrYW",
        "colab_type": "code",
        "colab": {}
      },
      "source": [
        "# Возвращаем список эмоций переданных изображений\n",
        "def make_emotions_list(images):\n",
        "  emotions = []\n",
        "  for image in images:\n",
        "    emotions.append(get_emotion(get_index_of_max(image)))\n",
        "  return emotions\n",
        "\n",
        "# Вычисление матрицы ошибок\n",
        "def confusion_matrix(predicted, test):\n",
        "  result_matrix = []\n",
        "  for key, emotion in emotions:\n",
        "    counts = []\n",
        "\n",
        "    for k, e in emotions:\n",
        "      counts.append(0)\n",
        "\n",
        "    for i in range(0, len(test)):\n",
        "      if (test[i] == emotion and test[i] == predicted[i]):\n",
        "        counts[key] += 1\n",
        "      elif (test[i] == emotion):\n",
        "        counts[get_index_by_emotion(predicted[i])] += 1\n",
        "\n",
        "    result_matrix.append([\"%.3f\" % (count / sum(counts)) for count in counts])\n",
        "  return result_matrix\n",
        "\n",
        "# Вывод матрицы ошибок\n",
        "def show_confusion_matrix(values):\n",
        "  groups = [v for k, v in emotions]\n",
        "  fig, ax = plt.subplots(figsize=(13,10))  \n",
        "  sns.heatmap(values, annot=True, xticklabels=groups, yticklabels=groups, linewidths=2, cmap='Blues')\n",
        "\n",
        "# Перевод матрицы эмоций в массив\n",
        "def emotion_matrix_to_array(matrix):\n",
        "  result = []\n",
        "  for i in range(0, len(matrix)):\n",
        "    for j in range(0, len(matrix[i])):\n",
        "      #print(matrix[i])\n",
        "      if (matrix[i][j] == 1):\n",
        "        result.append(j)\n",
        "\n",
        "  return result\n",
        "\n",
        "# Возвращает количество верных утверждений модели\n",
        "def calculate_true_predicts_count(predicted, correct):\n",
        "  count = 0\n",
        "  for i in range(0, len(predicted)):\n",
        "    if (predicted[i] == correct[i]):\n",
        "      count += 1\n",
        "\n",
        "  return count"
      ],
      "execution_count": 0,
      "outputs": []
    },
    {
      "cell_type": "code",
      "metadata": {
        "id": "6CZWg1PlU4l7",
        "colab_type": "code",
        "outputId": "7e284e50-08e7-4112-f57a-1cb7302e2c8e",
        "colab": {
          "base_uri": "https://localhost:8080/",
          "height": 610
        }
      },
      "source": [
        "predicted_images = model.predict(test_images)\n",
        "\n",
        "predicted_emotions = make_emotions_list(predicted_images)\n",
        "correct_emotions = [get_emotion(emotion) for emotion in emotion_matrix_to_array(test_emotions.values)]\n",
        "\n",
        "values = np.array(confusion_matrix(predicted_emotions, correct_emotions)).astype(np.float)\n",
        "print(\"Точность модели: {0}\".format(calculate_true_predicts_count(predicted_emotions, correct_emotions) / len(correct_emotions)))\n",
        "show_confusion_matrix(values)"
      ],
      "execution_count": 159,
      "outputs": [
        {
          "output_type": "stream",
          "text": [
            "Точность модели: 0.6489272777932572\n"
          ],
          "name": "stdout"
        },
        {
          "output_type": "display_data",
          "data": {
            "image/png": "[encoded data removed]",
            "text/plain": [
              "<Figure size 936x720 with 2 Axes>"
            ]
          },
          "metadata": {
            "tags": [],
            "needs_background": "light"
          }
        }
      ]
    },
    {
      "cell_type": "markdown",
      "metadata": {
        "id": "uKSMD7Y6xOvX",
        "colab_type": "text"
      },
      "source": [
        "## Реальное использование\n",
        "Для использования модели, следует обучить ее всеми изображениями, не разделяя на тестовые и обучающие данные."
      ]
    },
    {
      "cell_type": "code",
      "metadata": {
        "id": "Z6PbpyJ0yLgu",
        "colab_type": "code",
        "colab": {
          "base_uri": "https://localhost:8080/",
          "height": 52
        },
        "outputId": "88d9c8e9-2100-4fe6-bba8-0500f435b030"
      },
      "source": [
        "train_images, valid_images, train_emotions, valid_emotions = train_test_split(all_images, all_emotions, test_size=0.1, random_state=41)\n",
        "\n",
        "print(\"Размер обучающей подборки: {0}\".format(len(train_images)))\n",
        "print(\"Размер валидационной подборки: {0}\".format(len(valid_images)))"
      ],
      "execution_count": 168,
      "outputs": [
        {
          "output_type": "stream",
          "text": [
            "Размер обучающей подборки: 32298\n",
            "Размер валидационной подборки: 3589\n"
          ],
          "name": "stdout"
        }
      ]
    },
    {
      "cell_type": "code",
      "metadata": {
        "id": "FH6FPB1fxgsT",
        "colab_type": "code",
        "colab": {
          "base_uri": "https://localhost:8080/",
          "height": 1000
        },
        "outputId": "db70e55f-8d3d-4987-a22d-f57363681a2f"
      },
      "source": [
        "model = create_model()\n",
        "train_model(model, train_images, train_emotions, valid_images, valid_emotions)"
      ],
      "execution_count": 171,
      "outputs": [
        {
          "output_type": "stream",
          "text": [
            "Epoch 1/100\n",
            "505/505 [==============================] - 14s 28ms/step - loss: 1.9936 - accuracy: 0.2148 - val_loss: 1.8218 - val_accuracy: 0.2402\n",
            "Epoch 2/100\n",
            "505/505 [==============================] - 13s 26ms/step - loss: 1.8311 - accuracy: 0.2476 - val_loss: 1.8327 - val_accuracy: 0.2424\n",
            "Epoch 3/100\n",
            "505/505 [==============================] - 13s 26ms/step - loss: 1.7597 - accuracy: 0.2856 - val_loss: 1.9836 - val_accuracy: 0.2469\n",
            "Epoch 4/100\n",
            "505/505 [==============================] - 13s 26ms/step - loss: 1.6655 - accuracy: 0.3318 - val_loss: 1.9130 - val_accuracy: 0.2494\n",
            "Epoch 5/100\n",
            "505/505 [==============================] - 13s 26ms/step - loss: 1.5695 - accuracy: 0.3853 - val_loss: 1.4697 - val_accuracy: 0.4249\n",
            "Epoch 6/100\n",
            "505/505 [==============================] - 13s 26ms/step - loss: 1.4779 - accuracy: 0.4201 - val_loss: 1.4227 - val_accuracy: 0.4422\n",
            "Epoch 7/100\n",
            "505/505 [==============================] - 13s 26ms/step - loss: 1.4308 - accuracy: 0.4385 - val_loss: 1.3393 - val_accuracy: 0.4893\n",
            "Epoch 8/100\n",
            "505/505 [==============================] - 13s 26ms/step - loss: 1.3967 - accuracy: 0.4633 - val_loss: 1.3441 - val_accuracy: 0.4865\n",
            "Epoch 9/100\n",
            "505/505 [==============================] - 13s 26ms/step - loss: 1.3510 - accuracy: 0.4883 - val_loss: 1.4598 - val_accuracy: 0.4625\n",
            "Epoch 10/100\n",
            "505/505 [==============================] - 13s 26ms/step - loss: 1.3236 - accuracy: 0.4974 - val_loss: 1.2542 - val_accuracy: 0.5339\n",
            "Epoch 11/100\n",
            "505/505 [==============================] - 13s 26ms/step - loss: 1.2839 - accuracy: 0.5153 - val_loss: 1.2082 - val_accuracy: 0.5514\n",
            "Epoch 12/100\n",
            "505/505 [==============================] - 13s 26ms/step - loss: 1.2589 - accuracy: 0.5315 - val_loss: 1.2018 - val_accuracy: 0.5495\n",
            "Epoch 13/100\n",
            "505/505 [==============================] - 13s 26ms/step - loss: 1.2221 - accuracy: 0.5468 - val_loss: 1.1390 - val_accuracy: 0.5729\n",
            "Epoch 14/100\n",
            "505/505 [==============================] - 13s 26ms/step - loss: 1.2025 - accuracy: 0.5549 - val_loss: 1.1687 - val_accuracy: 0.5701\n",
            "Epoch 15/100\n",
            "505/505 [==============================] - 13s 26ms/step - loss: 1.1840 - accuracy: 0.5665 - val_loss: 1.1250 - val_accuracy: 0.5807\n",
            "Epoch 16/100\n",
            "505/505 [==============================] - 13s 26ms/step - loss: 1.1491 - accuracy: 0.5758 - val_loss: 1.1255 - val_accuracy: 0.5868\n",
            "Epoch 17/100\n",
            "505/505 [==============================] - 13s 26ms/step - loss: 1.1296 - accuracy: 0.5866 - val_loss: 1.1728 - val_accuracy: 0.5684\n",
            "Epoch 18/100\n",
            "505/505 [==============================] - 13s 26ms/step - loss: 1.1110 - accuracy: 0.5927 - val_loss: 1.1286 - val_accuracy: 0.5848\n",
            "Epoch 19/100\n",
            "505/505 [==============================] - 13s 26ms/step - loss: 1.0883 - accuracy: 0.6052 - val_loss: 1.0743 - val_accuracy: 0.6082\n",
            "Epoch 20/100\n",
            "505/505 [==============================] - 13s 26ms/step - loss: 1.0716 - accuracy: 0.6139 - val_loss: 1.0751 - val_accuracy: 0.6035\n",
            "Epoch 21/100\n",
            "505/505 [==============================] - 13s 26ms/step - loss: 1.0538 - accuracy: 0.6213 - val_loss: 1.0656 - val_accuracy: 0.6158\n",
            "Epoch 22/100\n",
            "505/505 [==============================] - 13s 26ms/step - loss: 1.0258 - accuracy: 0.6312 - val_loss: 1.0537 - val_accuracy: 0.6119\n",
            "Epoch 23/100\n",
            "505/505 [==============================] - 13s 26ms/step - loss: 1.0113 - accuracy: 0.6328 - val_loss: 1.0607 - val_accuracy: 0.6085\n",
            "Epoch 24/100\n",
            "505/505 [==============================] - 13s 26ms/step - loss: 0.9867 - accuracy: 0.6452 - val_loss: 1.0737 - val_accuracy: 0.6074\n",
            "Epoch 25/100\n",
            "505/505 [==============================] - 13s 26ms/step - loss: 0.9782 - accuracy: 0.6483 - val_loss: 1.0327 - val_accuracy: 0.6247\n",
            "Epoch 26/100\n",
            "505/505 [==============================] - 13s 26ms/step - loss: 0.9519 - accuracy: 0.6528 - val_loss: 1.0266 - val_accuracy: 0.6344\n",
            "Epoch 27/100\n",
            "505/505 [==============================] - 13s 26ms/step - loss: 0.9374 - accuracy: 0.6607 - val_loss: 1.0105 - val_accuracy: 0.6261\n",
            "Epoch 28/100\n",
            "505/505 [==============================] - 13s 26ms/step - loss: 0.9245 - accuracy: 0.6658 - val_loss: 1.0197 - val_accuracy: 0.6297\n",
            "Epoch 29/100\n",
            "505/505 [==============================] - 13s 26ms/step - loss: 0.9106 - accuracy: 0.6719 - val_loss: 1.0227 - val_accuracy: 0.6319\n",
            "Epoch 30/100\n",
            "505/505 [==============================] - 13s 26ms/step - loss: 0.8895 - accuracy: 0.6779 - val_loss: 1.0542 - val_accuracy: 0.6291\n",
            "Epoch 31/100\n",
            "505/505 [==============================] - 13s 26ms/step - loss: 0.8835 - accuracy: 0.6835 - val_loss: 1.0516 - val_accuracy: 0.6233\n",
            "Epoch 32/100\n",
            "505/505 [==============================] - 13s 26ms/step - loss: 0.8651 - accuracy: 0.6894 - val_loss: 1.0382 - val_accuracy: 0.6250\n",
            "Epoch 33/100\n",
            "505/505 [==============================] - 13s 26ms/step - loss: 0.8480 - accuracy: 0.6958 - val_loss: 1.0254 - val_accuracy: 0.6336\n",
            "Epoch 34/100\n",
            "505/505 [==============================] - 13s 26ms/step - loss: 0.8355 - accuracy: 0.6985 - val_loss: 1.0240 - val_accuracy: 0.6456\n",
            "Epoch 35/100\n",
            "505/505 [==============================] - 13s 26ms/step - loss: 0.8218 - accuracy: 0.7058 - val_loss: 1.0197 - val_accuracy: 0.6364\n",
            "Epoch 36/100\n",
            "505/505 [==============================] - 13s 26ms/step - loss: 0.7968 - accuracy: 0.7178 - val_loss: 1.0415 - val_accuracy: 0.6372\n",
            "Epoch 37/100\n",
            "505/505 [==============================] - 13s 26ms/step - loss: 0.7846 - accuracy: 0.7219 - val_loss: 1.0200 - val_accuracy: 0.6565\n",
            "Epoch 38/100\n",
            "505/505 [==============================] - 13s 26ms/step - loss: 0.7773 - accuracy: 0.7208 - val_loss: 1.0291 - val_accuracy: 0.6478\n",
            "Epoch 39/100\n",
            "505/505 [==============================] - 13s 26ms/step - loss: 0.7645 - accuracy: 0.7278 - val_loss: 1.0185 - val_accuracy: 0.6578\n",
            "Epoch 40/100\n",
            "505/505 [==============================] - 13s 26ms/step - loss: 0.7643 - accuracy: 0.7272 - val_loss: 1.0332 - val_accuracy: 0.6456\n",
            "Epoch 41/100\n",
            "505/505 [==============================] - 13s 26ms/step - loss: 0.7438 - accuracy: 0.7364 - val_loss: 1.0517 - val_accuracy: 0.6551\n",
            "Epoch 42/100\n",
            "505/505 [==============================] - 13s 26ms/step - loss: 0.7284 - accuracy: 0.7449 - val_loss: 1.0330 - val_accuracy: 0.6634\n",
            "Epoch 43/100\n",
            "505/505 [==============================] - 13s 26ms/step - loss: 0.7131 - accuracy: 0.7487 - val_loss: 1.0433 - val_accuracy: 0.6289\n",
            "Epoch 44/100\n",
            "505/505 [==============================] - 13s 26ms/step - loss: 0.7038 - accuracy: 0.7516 - val_loss: 1.0449 - val_accuracy: 0.6592\n",
            "Epoch 45/100\n",
            "505/505 [==============================] - 13s 26ms/step - loss: 0.6970 - accuracy: 0.7534 - val_loss: 1.0326 - val_accuracy: 0.6570\n",
            "Epoch 46/100\n",
            "505/505 [==============================] - 13s 27ms/step - loss: 0.6817 - accuracy: 0.7589 - val_loss: 1.0345 - val_accuracy: 0.6553\n",
            "Epoch 47/100\n",
            "505/505 [==============================] - 13s 26ms/step - loss: 0.6798 - accuracy: 0.7638 - val_loss: 1.0493 - val_accuracy: 0.6595\n",
            "Epoch 48/100\n",
            "505/505 [==============================] - 13s 26ms/step - loss: 0.6586 - accuracy: 0.7705 - val_loss: 1.0397 - val_accuracy: 0.6584\n",
            "Epoch 49/100\n",
            "505/505 [==============================] - 13s 26ms/step - loss: 0.6463 - accuracy: 0.7713 - val_loss: 1.0798 - val_accuracy: 0.6481\n",
            "Epoch 50/100\n",
            "505/505 [==============================] - 13s 26ms/step - loss: 0.6490 - accuracy: 0.7727 - val_loss: 1.1001 - val_accuracy: 0.6528\n",
            "Epoch 51/100\n",
            "505/505 [==============================] - 13s 26ms/step - loss: 0.6343 - accuracy: 0.7786 - val_loss: 1.0784 - val_accuracy: 0.6565\n",
            "Epoch 52/100\n",
            "505/505 [==============================] - 13s 26ms/step - loss: 0.6239 - accuracy: 0.7854 - val_loss: 1.0808 - val_accuracy: 0.6551\n",
            "Epoch 53/100\n",
            "505/505 [==============================] - 13s 26ms/step - loss: 0.6194 - accuracy: 0.7865 - val_loss: 1.0801 - val_accuracy: 0.6626\n",
            "Epoch 54/100\n",
            "505/505 [==============================] - 13s 26ms/step - loss: 0.6075 - accuracy: 0.7903 - val_loss: 1.0604 - val_accuracy: 0.6570\n",
            "Epoch 55/100\n",
            "505/505 [==============================] - 13s 26ms/step - loss: 0.6063 - accuracy: 0.7901 - val_loss: 1.0674 - val_accuracy: 0.6612\n",
            "Epoch 56/100\n",
            "505/505 [==============================] - 13s 26ms/step - loss: 0.5975 - accuracy: 0.7961 - val_loss: 1.0726 - val_accuracy: 0.6629\n",
            "Epoch 57/100\n",
            "505/505 [==============================] - 13s 26ms/step - loss: 0.5775 - accuracy: 0.8029 - val_loss: 1.1106 - val_accuracy: 0.6520\n",
            "Epoch 58/100\n",
            "505/505 [==============================] - 13s 26ms/step - loss: 0.5698 - accuracy: 0.8033 - val_loss: 1.1050 - val_accuracy: 0.6578\n",
            "Epoch 59/100\n",
            "505/505 [==============================] - 13s 26ms/step - loss: 0.5697 - accuracy: 0.8049 - val_loss: 1.1105 - val_accuracy: 0.6648\n",
            "Epoch 60/100\n",
            "505/505 [==============================] - 13s 26ms/step - loss: 0.5591 - accuracy: 0.8101 - val_loss: 1.0886 - val_accuracy: 0.6620\n",
            "Epoch 61/100\n",
            "505/505 [==============================] - 13s 26ms/step - loss: 0.5532 - accuracy: 0.8098 - val_loss: 1.0977 - val_accuracy: 0.6640\n",
            "Epoch 62/100\n",
            "505/505 [==============================] - 13s 26ms/step - loss: 0.5436 - accuracy: 0.8159 - val_loss: 1.0913 - val_accuracy: 0.6673\n",
            "Epoch 63/100\n",
            "505/505 [==============================] - 13s 26ms/step - loss: 0.5326 - accuracy: 0.8192 - val_loss: 1.1272 - val_accuracy: 0.6634\n",
            "Epoch 64/100\n",
            "505/505 [==============================] - 13s 26ms/step - loss: 0.5292 - accuracy: 0.8203 - val_loss: 1.0867 - val_accuracy: 0.6592\n",
            "Epoch 65/100\n",
            "505/505 [==============================] - 13s 26ms/step - loss: 0.5204 - accuracy: 0.8237 - val_loss: 1.1210 - val_accuracy: 0.6606\n",
            "Epoch 66/100\n",
            "505/505 [==============================] - 13s 26ms/step - loss: 0.5103 - accuracy: 0.8278 - val_loss: 1.0988 - val_accuracy: 0.6665\n",
            "Epoch 67/100\n",
            "505/505 [==============================] - 13s 26ms/step - loss: 0.4964 - accuracy: 0.8293 - val_loss: 1.1871 - val_accuracy: 0.6601\n",
            "Epoch 68/100\n",
            "505/505 [==============================] - 13s 26ms/step - loss: 0.5026 - accuracy: 0.8320 - val_loss: 1.1255 - val_accuracy: 0.6595\n",
            "Epoch 69/100\n",
            "505/505 [==============================] - 13s 26ms/step - loss: 0.4841 - accuracy: 0.8391 - val_loss: 1.0969 - val_accuracy: 0.6578\n",
            "Epoch 70/100\n",
            "505/505 [==============================] - 13s 26ms/step - loss: 0.4926 - accuracy: 0.8369 - val_loss: 1.2141 - val_accuracy: 0.6397\n",
            "Epoch 71/100\n",
            "505/505 [==============================] - 13s 26ms/step - loss: 0.4869 - accuracy: 0.8379 - val_loss: 1.1752 - val_accuracy: 0.6612\n",
            "Epoch 72/100\n",
            "505/505 [==============================] - 13s 26ms/step - loss: 0.4685 - accuracy: 0.8431 - val_loss: 1.1567 - val_accuracy: 0.6604\n",
            "Epoch 73/100\n",
            "505/505 [==============================] - 13s 26ms/step - loss: 0.4699 - accuracy: 0.8437 - val_loss: 1.1934 - val_accuracy: 0.6643\n",
            "Epoch 74/100\n",
            "505/505 [==============================] - 13s 26ms/step - loss: 0.4627 - accuracy: 0.8454 - val_loss: 1.1891 - val_accuracy: 0.6629\n",
            "Epoch 75/100\n",
            "505/505 [==============================] - 13s 26ms/step - loss: 0.4587 - accuracy: 0.8455 - val_loss: 1.1821 - val_accuracy: 0.6684\n",
            "Epoch 76/100\n",
            "505/505 [==============================] - 13s 26ms/step - loss: 0.4547 - accuracy: 0.8492 - val_loss: 1.2120 - val_accuracy: 0.6673\n",
            "Epoch 77/100\n",
            "505/505 [==============================] - 13s 26ms/step - loss: 0.4386 - accuracy: 0.8548 - val_loss: 1.2490 - val_accuracy: 0.6640\n",
            "Epoch 78/100\n",
            "505/505 [==============================] - 13s 26ms/step - loss: 0.4385 - accuracy: 0.8558 - val_loss: 1.1014 - val_accuracy: 0.6612\n",
            "Epoch 79/100\n",
            "505/505 [==============================] - 13s 26ms/step - loss: 0.4256 - accuracy: 0.8595 - val_loss: 1.2106 - val_accuracy: 0.6562\n",
            "Epoch 80/100\n",
            "505/505 [==============================] - 13s 26ms/step - loss: 0.4197 - accuracy: 0.8627 - val_loss: 1.1804 - val_accuracy: 0.6623\n",
            "Epoch 81/100\n",
            "505/505 [==============================] - 13s 26ms/step - loss: 0.4212 - accuracy: 0.8605 - val_loss: 1.2360 - val_accuracy: 0.6673\n",
            "Epoch 82/100\n",
            "505/505 [==============================] - 13s 26ms/step - loss: 0.4146 - accuracy: 0.8632 - val_loss: 1.2689 - val_accuracy: 0.6553\n",
            "Epoch 83/100\n",
            "505/505 [==============================] - 13s 26ms/step - loss: 0.4104 - accuracy: 0.8640 - val_loss: 1.2676 - val_accuracy: 0.6556\n",
            "Epoch 84/100\n",
            "505/505 [==============================] - 13s 26ms/step - loss: 0.4038 - accuracy: 0.8660 - val_loss: 1.2610 - val_accuracy: 0.6670\n",
            "Epoch 85/100\n",
            "505/505 [==============================] - 13s 26ms/step - loss: 0.4032 - accuracy: 0.8662 - val_loss: 1.2783 - val_accuracy: 0.6682\n",
            "Epoch 86/100\n",
            "505/505 [==============================] - 13s 26ms/step - loss: 0.3993 - accuracy: 0.8704 - val_loss: 1.2349 - val_accuracy: 0.6612\n",
            "Epoch 87/100\n",
            "505/505 [==============================] - 13s 26ms/step - loss: 0.3975 - accuracy: 0.8693 - val_loss: 1.2556 - val_accuracy: 0.6545\n",
            "Epoch 88/100\n",
            "505/505 [==============================] - 13s 26ms/step - loss: 0.3936 - accuracy: 0.8721 - val_loss: 1.2605 - val_accuracy: 0.6693\n",
            "Epoch 89/100\n",
            "505/505 [==============================] - 13s 26ms/step - loss: 0.3839 - accuracy: 0.8763 - val_loss: 1.3782 - val_accuracy: 0.6556\n",
            "Epoch 90/100\n",
            "505/505 [==============================] - 13s 26ms/step - loss: 0.3907 - accuracy: 0.8736 - val_loss: 1.2184 - val_accuracy: 0.6637\n",
            "Epoch 91/100\n",
            "505/505 [==============================] - 13s 26ms/step - loss: 0.3723 - accuracy: 0.8767 - val_loss: 1.2684 - val_accuracy: 0.6712\n",
            "Epoch 92/100\n",
            "505/505 [==============================] - 13s 26ms/step - loss: 0.3708 - accuracy: 0.8786 - val_loss: 1.2845 - val_accuracy: 0.6551\n",
            "Epoch 93/100\n",
            "505/505 [==============================] - 13s 26ms/step - loss: 0.3608 - accuracy: 0.8833 - val_loss: 1.2517 - val_accuracy: 0.6634\n",
            "Epoch 94/100\n",
            "505/505 [==============================] - 13s 26ms/step - loss: 0.3601 - accuracy: 0.8813 - val_loss: 1.2601 - val_accuracy: 0.6590\n",
            "Epoch 95/100\n",
            "505/505 [==============================] - 13s 26ms/step - loss: 0.3688 - accuracy: 0.8817 - val_loss: 1.2935 - val_accuracy: 0.6651\n",
            "Epoch 96/100\n",
            "505/505 [==============================] - 13s 26ms/step - loss: 0.3589 - accuracy: 0.8850 - val_loss: 1.2810 - val_accuracy: 0.6734\n",
            "Epoch 97/100\n",
            "505/505 [==============================] - 13s 26ms/step - loss: 0.3615 - accuracy: 0.8845 - val_loss: 1.2687 - val_accuracy: 0.6595\n",
            "Epoch 98/100\n",
            "505/505 [==============================] - 13s 26ms/step - loss: 0.3503 - accuracy: 0.8861 - val_loss: 1.3165 - val_accuracy: 0.6651\n",
            "Epoch 99/100\n",
            "505/505 [==============================] - 13s 26ms/step - loss: 0.3379 - accuracy: 0.8932 - val_loss: 1.2828 - val_accuracy: 0.6645\n",
            "Epoch 100/100\n",
            "505/505 [==============================] - 13s 26ms/step - loss: 0.3339 - accuracy: 0.8932 - val_loss: 1.2843 - val_accuracy: 0.6662\n"
          ],
          "name": "stdout"
        }
      ]
    },
    {
      "cell_type": "code",
      "metadata": {
        "id": "ZouD8zeL1QbJ",
        "colab_type": "code",
        "colab": {
          "base_uri": "https://localhost:8080/",
          "height": 52
        },
        "outputId": "18986e99-acfa-4258-cff6-bde069e20bb1"
      },
      "source": [
        "model.save(\"fer_model_final.tf\")"
      ],
      "execution_count": 172,
      "outputs": [
        {
          "output_type": "stream",
          "text": [
            "INFO:tensorflow:Assets written to: fer_model_final.tf/assets\n"
          ],
          "name": "stdout"
        },
        {
          "output_type": "stream",
          "text": [
            "INFO:tensorflow:Assets written to: fer_model_final.tf/assets\n"
          ],
          "name": "stderr"
        }
      ]
    },
    {
      "cell_type": "markdown",
      "metadata": {
        "id": "0XpBF7MKS8fe",
        "colab_type": "text"
      },
      "source": [
        "## Конвертация в tflite\n",
        "Так же можно конвертировать Keras модель в tflite."
      ]
    },
    {
      "cell_type": "code",
      "metadata": {
        "id": "zcF4EUTeS2JK",
        "colab_type": "code",
        "outputId": "c77bf427-7558-43d4-a5ff-0952350a725a",
        "colab": {
          "base_uri": "https://localhost:8080/",
          "height": 34
        }
      },
      "source": [
        "converter = tf.lite.TFLiteConverter.from_keras_model(model)\n",
        "tfmodel = converter.convert()\n",
        "open(\"model.tflite\", \"wb\").write(tfmodel)"
      ],
      "execution_count": 173,
      "outputs": [
        {
          "output_type": "execute_result",
          "data": {
            "text/plain": [
              "23617760"
            ]
          },
          "metadata": {
            "tags": []
          },
          "execution_count": 173
        }
      ]
    },
    {
      "cell_type": "markdown",
      "metadata": {
        "id": "L04IKfOFJTNQ",
        "colab_type": "text"
      },
      "source": [
        "Для использования модели tflite следует знать какой формат данных принимает модель.<br/>\n",
        "**Вход**: массив матриц 48х48 пикселей<br/>\n",
        "**Выход**: массив значений типа float, где наибольшее обозначает вероятную эмоцию"
      ]
    },
    {
      "cell_type": "code",
      "metadata": {
        "id": "8dUVjdmPJcJV",
        "colab_type": "code",
        "outputId": "6c4d44b6-dfca-4045-fdc8-2adb24a963e5",
        "colab": {
          "base_uri": "https://localhost:8080/",
          "height": 87
        }
      },
      "source": [
        "interpreter = tf.lite.Interpreter(model_path=\"model.tflite\")\n",
        "interpreter.allocate_tensors()\n",
        "\n",
        "print(\"Формат входных данных: {0}\".format(interpreter.get_input_details()[0]['shape']))\n",
        "print(\"Тип входных данных: {0}\".format(interpreter.get_input_details()[0]['dtype']))\n",
        "\n",
        "print(\"Формат входных данных: {0}\".format(interpreter.get_output_details()[0]['shape']))\n",
        "print(\"Тип входных данных: {0}\".format(interpreter.get_output_details()[0]['dtype']))"
      ],
      "execution_count": 174,
      "outputs": [
        {
          "output_type": "stream",
          "text": [
            "Формат входных данных: [ 1 48 48  1]\n",
            "Тип входных данных: <class 'numpy.float32'>\n",
            "Формат входных данных: [1 7]\n",
            "Тип входных данных: <class 'numpy.float32'>\n"
          ],
          "name": "stdout"
        }
      ]
    }
  ]
}